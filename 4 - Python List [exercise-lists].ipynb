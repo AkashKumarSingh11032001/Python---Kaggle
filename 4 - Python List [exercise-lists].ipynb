{
 "cells": [
  {
   "cell_type": "markdown",
   "id": "594b54df",
   "metadata": {
    "papermill": {
     "duration": 0.015034,
     "end_time": "2021-08-06T06:31:39.034754",
     "exception": false,
     "start_time": "2021-08-06T06:31:39.019720",
     "status": "completed"
    },
    "tags": []
   },
   "source": [
    "**This notebook is an exercise in the [Python](https://www.kaggle.com/learn/python) course.  You can reference the tutorial at [this link](https://www.kaggle.com/colinmorris/lists).**\n",
    "\n",
    "---\n"
   ]
  },
  {
   "cell_type": "markdown",
   "id": "84a4e0e5",
   "metadata": {
    "papermill": {
     "duration": 0.015153,
     "end_time": "2021-08-06T06:31:39.066159",
     "exception": false,
     "start_time": "2021-08-06T06:31:39.051006",
     "status": "completed"
    },
    "tags": []
   },
   "source": [
    "Things get more interesting with lists. You'll apply your new knowledge to solve the questions below. Remember to run the following cell first."
   ]
  },
  {
   "cell_type": "code",
   "execution_count": 1,
   "id": "6584be14",
   "metadata": {
    "execution": {
     "iopub.execute_input": "2021-08-06T06:31:39.108424Z",
     "iopub.status.busy": "2021-08-06T06:31:39.107506Z",
     "iopub.status.idle": "2021-08-06T06:31:39.160608Z",
     "shell.execute_reply": "2021-08-06T06:31:39.161473Z",
     "shell.execute_reply.started": "2021-08-06T06:18:49.516442Z"
    },
    "papermill": {
     "duration": 0.081043,
     "end_time": "2021-08-06T06:31:39.161938",
     "exception": false,
     "start_time": "2021-08-06T06:31:39.080895",
     "status": "completed"
    },
    "tags": []
   },
   "outputs": [
    {
     "name": "stdout",
     "output_type": "stream",
     "text": [
      "Setup complete.\n"
     ]
    }
   ],
   "source": [
    "from learntools.core import binder; binder.bind(globals())\n",
    "from learntools.python.ex4 import *\n",
    "print('Setup complete.')"
   ]
  },
  {
   "cell_type": "markdown",
   "id": "3ed2ff72",
   "metadata": {
    "papermill": {
     "duration": 0.015278,
     "end_time": "2021-08-06T06:31:39.193561",
     "exception": false,
     "start_time": "2021-08-06T06:31:39.178283",
     "status": "completed"
    },
    "tags": []
   },
   "source": [
    "# 1.\n",
    "\n",
    "Complete the function below according to its docstring."
   ]
  },
  {
   "cell_type": "code",
   "execution_count": 2,
   "id": "23b16674",
   "metadata": {
    "execution": {
     "iopub.execute_input": "2021-08-06T06:31:39.327463Z",
     "iopub.status.busy": "2021-08-06T06:31:39.326673Z",
     "iopub.status.idle": "2021-08-06T06:31:39.333865Z",
     "shell.execute_reply": "2021-08-06T06:31:39.334355Z",
     "shell.execute_reply.started": "2021-08-06T05:49:13.637736Z"
    },
    "papermill": {
     "duration": 0.125364,
     "end_time": "2021-08-06T06:31:39.334530",
     "exception": false,
     "start_time": "2021-08-06T06:31:39.209166",
     "status": "completed"
    },
    "tags": []
   },
   "outputs": [
    {
     "data": {
      "application/javascript": [
       "parent.postMessage({\"jupyterEvent\": \"custom.exercise_interaction\", \"data\": {\"outcomeType\": 1, \"valueTowardsCompletion\": 0.2, \"interactionType\": 1, \"questionType\": 2, \"questionId\": \"1_SelectSecondItem\", \"learnToolsVersion\": \"0.3.4\", \"failureMessage\": \"\", \"exceptionClass\": \"\", \"trace\": \"\"}}, \"*\")"
      ],
      "text/plain": [
       "<IPython.core.display.Javascript object>"
      ]
     },
     "metadata": {},
     "output_type": "display_data"
    },
    {
     "data": {
      "text/markdown": [
       "<span style=\"color:#33cc33\">Correct</span>"
      ],
      "text/plain": [
       "Correct"
      ]
     },
     "metadata": {},
     "output_type": "display_data"
    }
   ],
   "source": [
    "def select_second(L):\n",
    "    \"\"\"Return the second element of the given list. If the list has no second\n",
    "    element, return None.\n",
    "    \"\"\"\n",
    "    return L[1] if (len(L) >= 2) else None\n",
    "    \n",
    "\n",
    "# Check your answer\n",
    "q1.check()"
   ]
  },
  {
   "cell_type": "code",
   "execution_count": 3,
   "id": "9dea78ca",
   "metadata": {
    "collapsed": true,
    "execution": {
     "iopub.execute_input": "2021-08-06T06:31:39.371043Z",
     "iopub.status.busy": "2021-08-06T06:31:39.370359Z",
     "iopub.status.idle": "2021-08-06T06:31:39.373313Z",
     "shell.execute_reply": "2021-08-06T06:31:39.372744Z"
    },
    "jupyter": {
     "outputs_hidden": true
    },
    "papermill": {
     "duration": 0.023595,
     "end_time": "2021-08-06T06:31:39.373457",
     "exception": false,
     "start_time": "2021-08-06T06:31:39.349862",
     "status": "completed"
    },
    "tags": []
   },
   "outputs": [],
   "source": [
    "#q1.hint()\n",
    "#q1.solution()"
   ]
  },
  {
   "cell_type": "markdown",
   "id": "a595e1af",
   "metadata": {
    "papermill": {
     "duration": 0.014884,
     "end_time": "2021-08-06T06:31:39.403874",
     "exception": false,
     "start_time": "2021-08-06T06:31:39.388990",
     "status": "completed"
    },
    "tags": []
   },
   "source": [
    "# 2.\n",
    "\n",
    "You are analyzing sports teams.  Members of each team are stored in a list. The Coach is the first name in the list, the captain is the second name in the list, and other players are listed after that. \n",
    "These lists are stored in another list, which starts with the best team and proceeds through the list to the worst team last.  Complete the function below to select the **captain** of the worst team."
   ]
  },
  {
   "cell_type": "code",
   "execution_count": 4,
   "id": "aafd46f2",
   "metadata": {
    "execution": {
     "iopub.execute_input": "2021-08-06T06:31:39.441252Z",
     "iopub.status.busy": "2021-08-06T06:31:39.440301Z",
     "iopub.status.idle": "2021-08-06T06:31:39.445670Z",
     "shell.execute_reply": "2021-08-06T06:31:39.445133Z",
     "shell.execute_reply.started": "2021-08-06T05:51:09.219900Z"
    },
    "papermill": {
     "duration": 0.026636,
     "end_time": "2021-08-06T06:31:39.445838",
     "exception": false,
     "start_time": "2021-08-06T06:31:39.419202",
     "status": "completed"
    },
    "tags": []
   },
   "outputs": [
    {
     "data": {
      "application/javascript": [
       "parent.postMessage({\"jupyterEvent\": \"custom.exercise_interaction\", \"data\": {\"outcomeType\": 1, \"valueTowardsCompletion\": 0.2, \"interactionType\": 1, \"questionType\": 2, \"questionId\": \"2_LosingTeamCaptain\", \"learnToolsVersion\": \"0.3.4\", \"failureMessage\": \"\", \"exceptionClass\": \"\", \"trace\": \"\"}}, \"*\")"
      ],
      "text/plain": [
       "<IPython.core.display.Javascript object>"
      ]
     },
     "metadata": {},
     "output_type": "display_data"
    },
    {
     "data": {
      "text/markdown": [
       "<span style=\"color:#33cc33\">Correct</span>"
      ],
      "text/plain": [
       "Correct"
      ]
     },
     "metadata": {},
     "output_type": "display_data"
    }
   ],
   "source": [
    "def losing_team_captain(teams):\n",
    "    \"\"\"Given a list of teams, where each team is a list of names, return the 2nd player (captain)\n",
    "    from the last listed team\n",
    "    \"\"\"\n",
    "    return teams[-1][1]\n",
    "\n",
    "# Check your answer\n",
    "q2.check()"
   ]
  },
  {
   "cell_type": "code",
   "execution_count": 5,
   "id": "f605452a",
   "metadata": {
    "collapsed": true,
    "execution": {
     "iopub.execute_input": "2021-08-06T06:31:39.483255Z",
     "iopub.status.busy": "2021-08-06T06:31:39.482556Z",
     "iopub.status.idle": "2021-08-06T06:31:39.486003Z",
     "shell.execute_reply": "2021-08-06T06:31:39.486554Z"
    },
    "jupyter": {
     "outputs_hidden": true
    },
    "papermill": {
     "duration": 0.023357,
     "end_time": "2021-08-06T06:31:39.486730",
     "exception": false,
     "start_time": "2021-08-06T06:31:39.463373",
     "status": "completed"
    },
    "tags": []
   },
   "outputs": [],
   "source": [
    "#q2.hint()\n",
    "#q2.solution()"
   ]
  },
  {
   "cell_type": "markdown",
   "id": "dc8e8f6a",
   "metadata": {
    "papermill": {
     "duration": 0.020403,
     "end_time": "2021-08-06T06:31:39.524288",
     "exception": false,
     "start_time": "2021-08-06T06:31:39.503885",
     "status": "completed"
    },
    "tags": []
   },
   "source": [
    "# 3.\n",
    "\n",
    "The next iteration of Mario Kart will feature an extra-infuriating new item, the *Purple Shell*. When used, it warps the last place racer into first place and the first place racer into last place. Complete the function below to implement the Purple Shell's effect."
   ]
  },
  {
   "cell_type": "code",
   "execution_count": 6,
   "id": "045b20b1",
   "metadata": {
    "execution": {
     "iopub.execute_input": "2021-08-06T06:31:39.563636Z",
     "iopub.status.busy": "2021-08-06T06:31:39.562937Z",
     "iopub.status.idle": "2021-08-06T06:31:39.570888Z",
     "shell.execute_reply": "2021-08-06T06:31:39.571444Z",
     "shell.execute_reply.started": "2021-08-06T06:18:54.678930Z"
    },
    "papermill": {
     "duration": 0.030323,
     "end_time": "2021-08-06T06:31:39.571616",
     "exception": false,
     "start_time": "2021-08-06T06:31:39.541293",
     "status": "completed"
    },
    "tags": []
   },
   "outputs": [
    {
     "data": {
      "application/javascript": [
       "parent.postMessage({\"jupyterEvent\": \"custom.exercise_interaction\", \"data\": {\"outcomeType\": 1, \"valueTowardsCompletion\": 0.2, \"interactionType\": 1, \"questionType\": 2, \"questionId\": \"3_PurpleShell\", \"learnToolsVersion\": \"0.3.4\", \"failureMessage\": \"\", \"exceptionClass\": \"\", \"trace\": \"\"}}, \"*\")"
      ],
      "text/plain": [
       "<IPython.core.display.Javascript object>"
      ]
     },
     "metadata": {},
     "output_type": "display_data"
    },
    {
     "data": {
      "text/markdown": [
       "<span style=\"color:#33cc33\">Correct</span>"
      ],
      "text/plain": [
       "Correct"
      ]
     },
     "metadata": {},
     "output_type": "display_data"
    }
   ],
   "source": [
    "def purple_shell(racers):\n",
    "    \"\"\"Given a list of racers, set the first place racer (at the front of the list) to last\n",
    "    place and vice versa.\n",
    "    \n",
    "    >>> r = [\"Mario\", \"Bowser\", \"Luigi\"]\n",
    "    >>> purple_shell(r)\n",
    "    >>> r\n",
    "    [\"Luigi\", \"Bowser\", \"Mario\"]\n",
    "    \"\"\"\n",
    "    racers[0],racers[-1] = racers[-1],racers[0]\n",
    "\n",
    "# Check your answer\n",
    "q3.check()"
   ]
  },
  {
   "cell_type": "code",
   "execution_count": 7,
   "id": "e99441ab",
   "metadata": {
    "collapsed": true,
    "execution": {
     "iopub.execute_input": "2021-08-06T06:31:39.613245Z",
     "iopub.status.busy": "2021-08-06T06:31:39.612519Z",
     "iopub.status.idle": "2021-08-06T06:31:39.615747Z",
     "shell.execute_reply": "2021-08-06T06:31:39.616361Z"
    },
    "jupyter": {
     "outputs_hidden": true
    },
    "papermill": {
     "duration": 0.026635,
     "end_time": "2021-08-06T06:31:39.616542",
     "exception": false,
     "start_time": "2021-08-06T06:31:39.589907",
     "status": "completed"
    },
    "tags": []
   },
   "outputs": [],
   "source": [
    "#q3.hint()\n",
    "#q3.solution()"
   ]
  },
  {
   "cell_type": "markdown",
   "id": "08b2d3da",
   "metadata": {
    "papermill": {
     "duration": 0.018727,
     "end_time": "2021-08-06T06:31:39.654081",
     "exception": false,
     "start_time": "2021-08-06T06:31:39.635354",
     "status": "completed"
    },
    "tags": []
   },
   "source": [
    "# 4.\n",
    "\n",
    "What are the lengths of the following lists? Fill in the variable `lengths` with your predictions. (Try to make a prediction for each list *without* just calling `len()` on it.)"
   ]
  },
  {
   "cell_type": "code",
   "execution_count": 8,
   "id": "8c49b96f",
   "metadata": {
    "execution": {
     "iopub.execute_input": "2021-08-06T06:31:39.697785Z",
     "iopub.status.busy": "2021-08-06T06:31:39.696645Z",
     "iopub.status.idle": "2021-08-06T06:31:39.703804Z",
     "shell.execute_reply": "2021-08-06T06:31:39.703187Z",
     "shell.execute_reply.started": "2021-08-06T06:19:29.118153Z"
    },
    "papermill": {
     "duration": 0.032038,
     "end_time": "2021-08-06T06:31:39.703969",
     "exception": false,
     "start_time": "2021-08-06T06:31:39.671931",
     "status": "completed"
    },
    "tags": []
   },
   "outputs": [
    {
     "data": {
      "application/javascript": [
       "parent.postMessage({\"jupyterEvent\": \"custom.exercise_interaction\", \"data\": {\"outcomeType\": 1, \"valueTowardsCompletion\": 0.2, \"interactionType\": 1, \"questionType\": 1, \"questionId\": \"4_UnderstandLen\", \"learnToolsVersion\": \"0.3.4\", \"failureMessage\": \"\", \"exceptionClass\": \"\", \"trace\": \"\"}}, \"*\")"
      ],
      "text/plain": [
       "<IPython.core.display.Javascript object>"
      ]
     },
     "metadata": {},
     "output_type": "display_data"
    },
    {
     "data": {
      "text/markdown": [
       "<span style=\"color:#33cc33\">Correct:</span> \n",
       "\n",
       "\n",
       "- a: There are three items in this list. Nothing tricky yet.\n",
       "- b: The list `[2, 3]` counts as a single item. It has one item before it. So we have 2 items in the list\n",
       "- c: The empty list has 0 items\n",
       "- d: The expression is the same as the list `[2, 3]`, which has length 2."
      ],
      "text/plain": [
       "Correct: \n",
       "\n",
       "\n",
       "- a: There are three items in this list. Nothing tricky yet.\n",
       "- b: The list `[2, 3]` counts as a single item. It has one item before it. So we have 2 items in the list\n",
       "- c: The empty list has 0 items\n",
       "- d: The expression is the same as the list `[2, 3]`, which has length 2."
      ]
     },
     "metadata": {},
     "output_type": "display_data"
    }
   ],
   "source": [
    "a = [1, 2, 3]\n",
    "b = [1, [2, 3]]\n",
    "c = []\n",
    "d = [1, 2, 3][1:]\n",
    "\n",
    "# Put your predictions in the list below. Lengths should contain 4 numbers, the\n",
    "# first being the length of a, the second being the length of b and so on.\n",
    "lengths = [3,2,0,2]\n",
    "\n",
    "# Check your answer\n",
    "q4.check()"
   ]
  },
  {
   "cell_type": "code",
   "execution_count": 9,
   "id": "16c865e1",
   "metadata": {
    "collapsed": true,
    "execution": {
     "iopub.execute_input": "2021-08-06T06:31:39.747490Z",
     "iopub.status.busy": "2021-08-06T06:31:39.746496Z",
     "iopub.status.idle": "2021-08-06T06:31:39.749936Z",
     "shell.execute_reply": "2021-08-06T06:31:39.749249Z"
    },
    "jupyter": {
     "outputs_hidden": true
    },
    "papermill": {
     "duration": 0.027354,
     "end_time": "2021-08-06T06:31:39.750084",
     "exception": false,
     "start_time": "2021-08-06T06:31:39.722730",
     "status": "completed"
    },
    "tags": []
   },
   "outputs": [],
   "source": [
    "# line below provides some explanation\n",
    "#q4.solution()"
   ]
  },
  {
   "cell_type": "markdown",
   "id": "0d89ca51",
   "metadata": {
    "papermill": {
     "duration": 0.018523,
     "end_time": "2021-08-06T06:31:39.787596",
     "exception": false,
     "start_time": "2021-08-06T06:31:39.769073",
     "status": "completed"
    },
    "tags": []
   },
   "source": [
    "# 5. <span title=\"A bit spicy\" style=\"color: darkgreen \">🌶️</span>\n",
    "\n",
    "We're using lists to record people who attended our party and what order they arrived in. For example, the following list represents a party with 7 guests, in which Adela showed up first and Ford was the last to arrive:\n",
    "\n",
    "    party_attendees = ['Adela', 'Fleda', 'Owen', 'May', 'Mona', 'Gilbert', 'Ford']\n",
    "\n",
    "A guest is considered 'fashionably late' if they arrived after at least half of the party's guests. However, they must not be the very last guest (that's taking it too far). In the above example, Mona and Gilbert are the only guests who were fashionably late.\n",
    "\n",
    "Complete the function below which takes a list of party attendees as well as a person, and tells us whether that person is fashionably late."
   ]
  },
  {
   "cell_type": "code",
   "execution_count": 10,
   "id": "eee3b4e5",
   "metadata": {
    "execution": {
     "iopub.execute_input": "2021-08-06T06:31:39.828407Z",
     "iopub.status.busy": "2021-08-06T06:31:39.827657Z",
     "iopub.status.idle": "2021-08-06T06:31:39.836072Z",
     "shell.execute_reply": "2021-08-06T06:31:39.835406Z",
     "shell.execute_reply.started": "2021-08-06T06:31:09.383441Z"
    },
    "papermill": {
     "duration": 0.029896,
     "end_time": "2021-08-06T06:31:39.836237",
     "exception": false,
     "start_time": "2021-08-06T06:31:39.806341",
     "status": "completed"
    },
    "tags": []
   },
   "outputs": [
    {
     "data": {
      "application/javascript": [
       "parent.postMessage({\"jupyterEvent\": \"custom.exercise_interaction\", \"data\": {\"outcomeType\": 1, \"valueTowardsCompletion\": 0.2, \"interactionType\": 1, \"questionType\": 2, \"questionId\": \"5_FashionablyLate\", \"learnToolsVersion\": \"0.3.4\", \"failureMessage\": \"\", \"exceptionClass\": \"\", \"trace\": \"\"}}, \"*\")"
      ],
      "text/plain": [
       "<IPython.core.display.Javascript object>"
      ]
     },
     "metadata": {},
     "output_type": "display_data"
    },
    {
     "data": {
      "text/markdown": [
       "<span style=\"color:#33cc33\">Correct</span>"
      ],
      "text/plain": [
       "Correct"
      ]
     },
     "metadata": {},
     "output_type": "display_data"
    }
   ],
   "source": [
    "def fashionably_late(arrivals, name):\n",
    "    \"\"\"Given an ordered list of arrivals to the party and a name, return whether the guest with that\n",
    "    name was fashionably late.\n",
    "    \"\"\"\n",
    "    order = arrivals.index(name)\n",
    "    return order >= len(arrivals) / 2 and order != len(arrivals) - 1\n",
    "    \n",
    "    \n",
    "    \n",
    "\n",
    "# Check your answer\n",
    "q5.check()"
   ]
  },
  {
   "cell_type": "code",
   "execution_count": 11,
   "id": "d55c25b7",
   "metadata": {
    "collapsed": true,
    "execution": {
     "iopub.execute_input": "2021-08-06T06:31:39.880995Z",
     "iopub.status.busy": "2021-08-06T06:31:39.880299Z",
     "iopub.status.idle": "2021-08-06T06:31:39.884331Z",
     "shell.execute_reply": "2021-08-06T06:31:39.883788Z"
    },
    "jupyter": {
     "outputs_hidden": true
    },
    "papermill": {
     "duration": 0.027186,
     "end_time": "2021-08-06T06:31:39.884486",
     "exception": false,
     "start_time": "2021-08-06T06:31:39.857300",
     "status": "completed"
    },
    "tags": []
   },
   "outputs": [],
   "source": [
    "#q5.hint()\n",
    "#q5.solution()"
   ]
  },
  {
   "cell_type": "markdown",
   "id": "fb763325",
   "metadata": {
    "papermill": {
     "duration": 0.021165,
     "end_time": "2021-08-06T06:31:39.926896",
     "exception": false,
     "start_time": "2021-08-06T06:31:39.905731",
     "status": "completed"
    },
    "tags": []
   },
   "source": [
    "# Keep Going\n",
    "\n",
    "That's it for lists and tuples! Now you have the baseline knowledge to **[learn about loops](https://www.kaggle.com/colinmorris/loops-and-list-comprehensions)**, which is where lists and tuples get really interesting. "
   ]
  },
  {
   "cell_type": "markdown",
   "id": "be7caea9",
   "metadata": {
    "papermill": {
     "duration": 0.022958,
     "end_time": "2021-08-06T06:31:39.971572",
     "exception": false,
     "start_time": "2021-08-06T06:31:39.948614",
     "status": "completed"
    },
    "tags": []
   },
   "source": [
    "---\n",
    "\n",
    "\n",
    "\n",
    "\n",
    "*Have questions or comments? Visit the [Learn Discussion forum](https://www.kaggle.com/learn-forum/161283) to chat with other Learners.*"
   ]
  }
 ],
 "metadata": {
  "kernelspec": {
   "display_name": "Python 3",
   "language": "python",
   "name": "python3"
  },
  "language_info": {
   "codemirror_mode": {
    "name": "ipython",
    "version": 3
   },
   "file_extension": ".py",
   "mimetype": "text/x-python",
   "name": "python",
   "nbconvert_exporter": "python",
   "pygments_lexer": "ipython3",
   "version": "3.7.10"
  },
  "papermill": {
   "default_parameters": {},
   "duration": 13.017886,
   "end_time": "2021-08-06T06:31:41.610361",
   "environment_variables": {},
   "exception": null,
   "input_path": "__notebook__.ipynb",
   "output_path": "__notebook__.ipynb",
   "parameters": {},
   "start_time": "2021-08-06T06:31:28.592475",
   "version": "2.3.3"
  }
 },
 "nbformat": 4,
 "nbformat_minor": 5
}
