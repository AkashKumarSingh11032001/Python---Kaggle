{
 "cells": [
  {
   "cell_type": "markdown",
   "id": "38c8e7d2",
   "metadata": {
    "papermill": {
     "duration": 0.015071,
     "end_time": "2021-08-04T05:20:15.968277",
     "exception": false,
     "start_time": "2021-08-04T05:20:15.953206",
     "status": "completed"
    },
    "tags": []
   },
   "source": [
    "**This notebook is an exercise in the [Python](https://www.kaggle.com/learn/python) course.  You can reference the tutorial at [this link](https://www.kaggle.com/colinmorris/functions-and-getting-help).**\n",
    "\n",
    "---\n"
   ]
  },
  {
   "cell_type": "markdown",
   "id": "f7087618",
   "metadata": {
    "papermill": {
     "duration": 0.013877,
     "end_time": "2021-08-04T05:20:15.996599",
     "exception": false,
     "start_time": "2021-08-04T05:20:15.982722",
     "status": "completed"
    },
    "tags": []
   },
   "source": [
    "Functions are powerful. Try writing some yourself.\n",
    "\n",
    "As before, don't forget to run the setup code below before jumping into question 1."
   ]
  },
  {
   "cell_type": "code",
   "execution_count": 1,
   "id": "c1ea3daa",
   "metadata": {
    "_kg_hide-input": true,
    "_kg_hide-output": true,
    "execution": {
     "iopub.execute_input": "2021-08-04T05:20:16.039421Z",
     "iopub.status.busy": "2021-08-04T05:20:16.038733Z",
     "iopub.status.idle": "2021-08-04T05:20:16.175837Z",
     "shell.execute_reply": "2021-08-04T05:20:16.174908Z",
     "shell.execute_reply.started": "2021-08-04T05:12:36.097497Z"
    },
    "papermill": {
     "duration": 0.16539,
     "end_time": "2021-08-04T05:20:16.176012",
     "exception": false,
     "start_time": "2021-08-04T05:20:16.010622",
     "status": "completed"
    },
    "tags": []
   },
   "outputs": [
    {
     "name": "stdout",
     "output_type": "stream",
     "text": [
      "Setup complete.\n"
     ]
    }
   ],
   "source": [
    "# SETUP. You don't need to worry for now about what this code does or how it works.\n",
    "from learntools.core import binder; binder.bind(globals())\n",
    "from learntools.python.ex2 import *\n",
    "print('Setup complete.')"
   ]
  },
  {
   "cell_type": "markdown",
   "id": "1809311e",
   "metadata": {
    "papermill": {
     "duration": 0.013702,
     "end_time": "2021-08-04T05:20:16.204123",
     "exception": false,
     "start_time": "2021-08-04T05:20:16.190421",
     "status": "completed"
    },
    "tags": []
   },
   "source": [
    "# 1.\n",
    "\n",
    "Complete the body of the following function according to its docstring.\n",
    "\n",
    "HINT: Python has a built-in function `round`."
   ]
  },
  {
   "cell_type": "code",
   "execution_count": 2,
   "id": "f35f9427",
   "metadata": {
    "execution": {
     "iopub.execute_input": "2021-08-04T05:20:16.241808Z",
     "iopub.status.busy": "2021-08-04T05:20:16.238781Z",
     "iopub.status.idle": "2021-08-04T05:20:16.250284Z",
     "shell.execute_reply": "2021-08-04T05:20:16.249592Z",
     "shell.execute_reply.started": "2021-08-04T05:17:36.757156Z"
    },
    "papermill": {
     "duration": 0.032386,
     "end_time": "2021-08-04T05:20:16.250635",
     "exception": false,
     "start_time": "2021-08-04T05:20:16.218249",
     "status": "completed"
    },
    "tags": []
   },
   "outputs": [
    {
     "data": {
      "application/javascript": [
       "parent.postMessage({\"jupyterEvent\": \"custom.exercise_interaction\", \"data\": {\"outcomeType\": 1, \"valueTowardsCompletion\": 0.16666666666666666, \"interactionType\": 1, \"questionType\": 2, \"questionId\": \"1_RoundFunctionProblem\", \"learnToolsVersion\": \"0.3.4\", \"failureMessage\": \"\", \"exceptionClass\": \"\", \"trace\": \"\"}}, \"*\")"
      ],
      "text/plain": [
       "<IPython.core.display.Javascript object>"
      ]
     },
     "metadata": {},
     "output_type": "display_data"
    },
    {
     "data": {
      "text/markdown": [
       "<span style=\"color:#33cc33\">Correct</span>"
      ],
      "text/plain": [
       "Correct"
      ]
     },
     "metadata": {},
     "output_type": "display_data"
    }
   ],
   "source": [
    "def round_to_two_places(num):\n",
    "    \"\"\"Return the given number rounded to two decimal places. \n",
    "    \n",
    "    >>> round_to_two_places(3.14159)\n",
    "    3.14\n",
    "    \"\"\"\n",
    "    # Replace this body with your own code.\n",
    "    # (\"pass\" is a keyword that does literally nothing. We used it as a placeholder\n",
    "    # because after we begin a code block, Python requires at least one line of code)\n",
    "    return round(num,2)\n",
    "\n",
    "# Check your answer\n",
    "q1.check()"
   ]
  },
  {
   "cell_type": "code",
   "execution_count": 3,
   "id": "7a72b0cb",
   "metadata": {
    "execution": {
     "iopub.execute_input": "2021-08-04T05:20:16.290108Z",
     "iopub.status.busy": "2021-08-04T05:20:16.289417Z",
     "iopub.status.idle": "2021-08-04T05:20:16.293361Z",
     "shell.execute_reply": "2021-08-04T05:20:16.292654Z"
    },
    "papermill": {
     "duration": 0.026414,
     "end_time": "2021-08-04T05:20:16.293526",
     "exception": false,
     "start_time": "2021-08-04T05:20:16.267112",
     "status": "completed"
    },
    "tags": []
   },
   "outputs": [],
   "source": [
    "# Uncomment the following for a hint\n",
    "#q1.hint()\n",
    "# Or uncomment the following to peek at the solution\n",
    "#q1.solution()"
   ]
  },
  {
   "cell_type": "markdown",
   "id": "9690fdf0",
   "metadata": {
    "papermill": {
     "duration": 0.016867,
     "end_time": "2021-08-04T05:20:16.329020",
     "exception": false,
     "start_time": "2021-08-04T05:20:16.312153",
     "status": "completed"
    },
    "tags": []
   },
   "source": [
    "# 2.\n",
    "The help for `round` says that `ndigits` (the second argument) may be negative.\n",
    "What do you think will happen when it is? Try some examples in the following cell."
   ]
  },
  {
   "cell_type": "code",
   "execution_count": 4,
   "id": "84bb3d25",
   "metadata": {
    "execution": {
     "iopub.execute_input": "2021-08-04T05:20:16.369571Z",
     "iopub.status.busy": "2021-08-04T05:20:16.368644Z",
     "iopub.status.idle": "2021-08-04T05:20:16.372540Z",
     "shell.execute_reply": "2021-08-04T05:20:16.371871Z",
     "shell.execute_reply.started": "2021-08-04T05:15:05.390642Z"
    },
    "papermill": {
     "duration": 0.02588,
     "end_time": "2021-08-04T05:20:16.372710",
     "exception": false,
     "start_time": "2021-08-04T05:20:16.346830",
     "status": "completed"
    },
    "tags": []
   },
   "outputs": [
    {
     "name": "stdout",
     "output_type": "stream",
     "text": [
      "0.0\n"
     ]
    }
   ],
   "source": [
    "# Put your test code here\n",
    "print(round(3.1258,-1))"
   ]
  },
  {
   "cell_type": "markdown",
   "id": "29a2cff5",
   "metadata": {
    "papermill": {
     "duration": 0.017423,
     "end_time": "2021-08-04T05:20:16.407821",
     "exception": false,
     "start_time": "2021-08-04T05:20:16.390398",
     "status": "completed"
    },
    "tags": []
   },
   "source": [
    "Can you think of a case where this would be useful?  Once you're ready, run the code cell below to see the answer and to receive credit for completing the problem."
   ]
  },
  {
   "cell_type": "code",
   "execution_count": 5,
   "id": "10da7592",
   "metadata": {
    "execution": {
     "iopub.execute_input": "2021-08-04T05:20:16.447136Z",
     "iopub.status.busy": "2021-08-04T05:20:16.446170Z",
     "iopub.status.idle": "2021-08-04T05:20:16.451823Z",
     "shell.execute_reply": "2021-08-04T05:20:16.452655Z",
     "shell.execute_reply.started": "2021-08-04T05:15:07.965599Z"
    },
    "papermill": {
     "duration": 0.028418,
     "end_time": "2021-08-04T05:20:16.452870",
     "exception": false,
     "start_time": "2021-08-04T05:20:16.424452",
     "status": "completed"
    },
    "tags": []
   },
   "outputs": [
    {
     "data": {
      "application/javascript": [
       "parent.postMessage({\"jupyterEvent\": \"custom.exercise_interaction\", \"data\": {\"interactionType\": 3, \"questionType\": 4, \"questionId\": \"2_RoundNdigitsProblem\", \"learnToolsVersion\": \"0.3.4\", \"valueTowardsCompletion\": 0.0, \"failureMessage\": \"\", \"exceptionClass\": \"\", \"trace\": \"\", \"outcomeType\": 4}}, \"*\")"
      ],
      "text/plain": [
       "<IPython.core.display.Javascript object>"
      ]
     },
     "metadata": {},
     "output_type": "display_data"
    },
    {
     "data": {
      "text/markdown": [
       "<span style=\"color:#33cc99\">Solution:</span> As you've seen, `ndigits=-1` rounds to the nearest 10, `ndigits=-2` rounds to the nearest 100 and so on. Where might this be useful? Suppose we're dealing with large numbers:\n",
       "\n",
       "> The area of Finland is 338,424 km²  \n",
       "> The area of Greenland is 2,166,086 km²\n",
       "\n",
       "We probably don't care whether it's really 338,424, or 338,425, or 338,177. All those digits of accuracy are just distracting. We can chop them off by calling `round()` with `ndigits=-3`:\n",
       "\n",
       "> The area of Finland is 338,000 km²  \n",
       "> The area of Greenland is 2,166,000 km²\n",
       "\n",
       "(We'll talk about how we would get the commas later when we talk about string formatting :))\n"
      ],
      "text/plain": [
       "Solution: As you've seen, `ndigits=-1` rounds to the nearest 10, `ndigits=-2` rounds to the nearest 100 and so on. Where might this be useful? Suppose we're dealing with large numbers:\n",
       "\n",
       "> The area of Finland is 338,424 km²  \n",
       "> The area of Greenland is 2,166,086 km²\n",
       "\n",
       "We probably don't care whether it's really 338,424, or 338,425, or 338,177. All those digits of accuracy are just distracting. We can chop them off by calling `round()` with `ndigits=-3`:\n",
       "\n",
       "> The area of Finland is 338,000 km²  \n",
       "> The area of Greenland is 2,166,000 km²\n",
       "\n",
       "(We'll talk about how we would get the commas later when we talk about string formatting :))"
      ]
     },
     "metadata": {},
     "output_type": "display_data"
    }
   ],
   "source": [
    "# Check your answer (Run this code cell to receive credit!)\n",
    "q2.solution()"
   ]
  },
  {
   "cell_type": "markdown",
   "id": "b8dcaae3",
   "metadata": {
    "papermill": {
     "duration": 0.018841,
     "end_time": "2021-08-04T05:20:16.489897",
     "exception": false,
     "start_time": "2021-08-04T05:20:16.471056",
     "status": "completed"
    },
    "tags": []
   },
   "source": [
    "# 3.\n",
    "\n",
    "In the previous exercise, the candy-sharing friends Alice, Bob and Carol tried to split candies evenly. For the sake of their friendship, any candies left over would be smashed. For example, if they collectively bring home 91 candies, they'll take 30 each and smash 1.\n",
    "\n",
    "Below is a simple function that will calculate the number of candies to smash for *any* number of total candies.\n",
    "\n",
    "Modify it so that it optionally takes a second argument representing the number of friends the candies are being split between. If no second argument is provided, it should assume 3 friends, as before.\n",
    "\n",
    "Update the docstring to reflect this new behaviour."
   ]
  },
  {
   "cell_type": "code",
   "execution_count": 6,
   "id": "cd976732",
   "metadata": {
    "execution": {
     "iopub.execute_input": "2021-08-04T05:20:16.533909Z",
     "iopub.status.busy": "2021-08-04T05:20:16.533082Z",
     "iopub.status.idle": "2021-08-04T05:20:16.539749Z",
     "shell.execute_reply": "2021-08-04T05:20:16.540260Z",
     "shell.execute_reply.started": "2021-08-04T05:16:20.564810Z"
    },
    "papermill": {
     "duration": 0.032111,
     "end_time": "2021-08-04T05:20:16.540510",
     "exception": false,
     "start_time": "2021-08-04T05:20:16.508399",
     "status": "completed"
    },
    "tags": []
   },
   "outputs": [
    {
     "data": {
      "application/javascript": [
       "parent.postMessage({\"jupyterEvent\": \"custom.exercise_interaction\", \"data\": {\"outcomeType\": 1, \"valueTowardsCompletion\": 0.16666666666666666, \"interactionType\": 1, \"questionType\": 2, \"questionId\": \"3_CandySmashingFunctionProblem\", \"learnToolsVersion\": \"0.3.4\", \"failureMessage\": \"\", \"exceptionClass\": \"\", \"trace\": \"\"}}, \"*\")"
      ],
      "text/plain": [
       "<IPython.core.display.Javascript object>"
      ]
     },
     "metadata": {},
     "output_type": "display_data"
    },
    {
     "data": {
      "text/markdown": [
       "<span style=\"color:#33cc33\">Correct</span>"
      ],
      "text/plain": [
       "Correct"
      ]
     },
     "metadata": {},
     "output_type": "display_data"
    }
   ],
   "source": [
    "def to_smash(total_candies,n = 3):\n",
    "    \"\"\"Return the number of leftover candies that must be smashed after distributing\n",
    "    the given number of candies evenly between 3 friends.\n",
    "    \n",
    "    >>> to_smash(91)\n",
    "    1\n",
    "    \"\"\"\n",
    "    return total_candies % n\n",
    "\n",
    "# Check your answer\n",
    "q3.check()"
   ]
  },
  {
   "cell_type": "code",
   "execution_count": 7,
   "id": "c00e9395",
   "metadata": {
    "execution": {
     "iopub.execute_input": "2021-08-04T05:20:16.584113Z",
     "iopub.status.busy": "2021-08-04T05:20:16.583474Z",
     "iopub.status.idle": "2021-08-04T05:20:16.587364Z",
     "shell.execute_reply": "2021-08-04T05:20:16.586776Z"
    },
    "papermill": {
     "duration": 0.026446,
     "end_time": "2021-08-04T05:20:16.587536",
     "exception": false,
     "start_time": "2021-08-04T05:20:16.561090",
     "status": "completed"
    },
    "tags": []
   },
   "outputs": [],
   "source": [
    "#q3.hint()"
   ]
  },
  {
   "cell_type": "code",
   "execution_count": 8,
   "id": "184833fa",
   "metadata": {
    "execution": {
     "iopub.execute_input": "2021-08-04T05:20:16.629145Z",
     "iopub.status.busy": "2021-08-04T05:20:16.628503Z",
     "iopub.status.idle": "2021-08-04T05:20:16.631515Z",
     "shell.execute_reply": "2021-08-04T05:20:16.631956Z"
    },
    "papermill": {
     "duration": 0.026249,
     "end_time": "2021-08-04T05:20:16.632117",
     "exception": false,
     "start_time": "2021-08-04T05:20:16.605868",
     "status": "completed"
    },
    "tags": []
   },
   "outputs": [],
   "source": [
    "#q3.solution()"
   ]
  },
  {
   "cell_type": "markdown",
   "id": "a76f86c5",
   "metadata": {
    "papermill": {
     "duration": 0.017819,
     "end_time": "2021-08-04T05:20:16.668203",
     "exception": false,
     "start_time": "2021-08-04T05:20:16.650384",
     "status": "completed"
    },
    "tags": []
   },
   "source": [
    "# 4. (Optional)\n",
    "\n",
    "It may not be fun, but reading and understanding error messages will be an important part of your Python career.\n",
    "\n",
    "Each code cell below contains some commented buggy code. For each cell...\n",
    "\n",
    "1. Read the code and predict what you think will happen when it's run.\n",
    "2. Then uncomment the code and run it to see what happens. (**Tip**: In the kernel editor, you can highlight several lines and press `ctrl`+`/` to toggle commenting.)\n",
    "3. Fix the code (so that it accomplishes its intended purpose without throwing an exception)\n",
    "\n",
    "<!-- TODO: should this be autochecked? Delta is probably pretty small. -->"
   ]
  },
  {
   "cell_type": "code",
   "execution_count": 9,
   "id": "11e81c20",
   "metadata": {
    "execution": {
     "iopub.execute_input": "2021-08-04T05:20:16.711828Z",
     "iopub.status.busy": "2021-08-04T05:20:16.711084Z",
     "iopub.status.idle": "2021-08-04T05:20:16.716155Z",
     "shell.execute_reply": "2021-08-04T05:20:16.715540Z",
     "shell.execute_reply.started": "2021-08-04T05:17:53.169847Z"
    },
    "papermill": {
     "duration": 0.029582,
     "end_time": "2021-08-04T05:20:16.716343",
     "exception": false,
     "start_time": "2021-08-04T05:20:16.686761",
     "status": "completed"
    },
    "tags": []
   },
   "outputs": [
    {
     "data": {
      "text/plain": [
       "10.0"
      ]
     },
     "execution_count": 9,
     "metadata": {},
     "output_type": "execute_result"
    }
   ],
   "source": [
    "round_to_two_places(9.9999)"
   ]
  },
  {
   "cell_type": "code",
   "execution_count": 10,
   "id": "aa136120",
   "metadata": {
    "execution": {
     "iopub.execute_input": "2021-08-04T05:20:16.760692Z",
     "iopub.status.busy": "2021-08-04T05:20:16.759894Z",
     "iopub.status.idle": "2021-08-04T05:20:16.765186Z",
     "shell.execute_reply": "2021-08-04T05:20:16.764616Z",
     "shell.execute_reply.started": "2021-08-04T05:19:19.900615Z"
    },
    "papermill": {
     "duration": 0.030088,
     "end_time": "2021-08-04T05:20:16.765388",
     "exception": false,
     "start_time": "2021-08-04T05:20:16.735300",
     "status": "completed"
    },
    "tags": []
   },
   "outputs": [
    {
     "name": "stdout",
     "output_type": "stream",
     "text": [
      "5\n"
     ]
    }
   ],
   "source": [
    "x = -10\n",
    "y = 5\n",
    "# # Which of the two variables above has the smallest absolute value?\n",
    "smallest_abs = min(abs(x), abs(y))\n",
    "print(smallest_abs)"
   ]
  },
  {
   "cell_type": "code",
   "execution_count": 11,
   "id": "b4d9360f",
   "metadata": {
    "execution": {
     "iopub.execute_input": "2021-08-04T05:20:16.810786Z",
     "iopub.status.busy": "2021-08-04T05:20:16.809796Z",
     "iopub.status.idle": "2021-08-04T05:20:16.814130Z",
     "shell.execute_reply": "2021-08-04T05:20:16.813504Z",
     "shell.execute_reply.started": "2021-08-04T05:19:44.924871Z"
    },
    "papermill": {
     "duration": 0.02917,
     "end_time": "2021-08-04T05:20:16.814306",
     "exception": false,
     "start_time": "2021-08-04T05:20:16.785136",
     "status": "completed"
    },
    "tags": []
   },
   "outputs": [
    {
     "name": "stdout",
     "output_type": "stream",
     "text": [
      "5\n"
     ]
    }
   ],
   "source": [
    "def f(x):\n",
    "    y = abs(x)\n",
    "    return y\n",
    "\n",
    "print(f(5))"
   ]
  },
  {
   "cell_type": "markdown",
   "id": "e066d29a",
   "metadata": {
    "papermill": {
     "duration": 0.019761,
     "end_time": "2021-08-04T05:20:16.854038",
     "exception": false,
     "start_time": "2021-08-04T05:20:16.834277",
     "status": "completed"
    },
    "tags": []
   },
   "source": [
    "# Keep Going\n",
    "\n",
    "Nice job with the code. Next up, you'll learn about *conditionals*, which you'll need to **[write interesting programs](https://www.kaggle.com/colinmorris/booleans-and-conditionals)**. "
   ]
  },
  {
   "cell_type": "markdown",
   "id": "11ec86a1",
   "metadata": {
    "papermill": {
     "duration": 0.019496,
     "end_time": "2021-08-04T05:20:16.892943",
     "exception": false,
     "start_time": "2021-08-04T05:20:16.873447",
     "status": "completed"
    },
    "tags": []
   },
   "source": [
    "---\n",
    "\n",
    "\n",
    "\n",
    "\n",
    "*Have questions or comments? Visit the [Learn Discussion forum](https://www.kaggle.com/learn-forum/161283) to chat with other Learners.*"
   ]
  }
 ],
 "metadata": {
  "kernelspec": {
   "display_name": "Python 3",
   "language": "python",
   "name": "python3"
  },
  "language_info": {
   "codemirror_mode": {
    "name": "ipython",
    "version": 3
   },
   "file_extension": ".py",
   "mimetype": "text/x-python",
   "name": "python",
   "nbconvert_exporter": "python",
   "pygments_lexer": "ipython3",
   "version": "3.7.10"
  },
  "papermill": {
   "default_parameters": {},
   "duration": 10.854577,
   "end_time": "2021-08-04T05:20:18.330330",
   "environment_variables": {},
   "exception": null,
   "input_path": "__notebook__.ipynb",
   "output_path": "__notebook__.ipynb",
   "parameters": {},
   "start_time": "2021-08-04T05:20:07.475753",
   "version": "2.3.3"
  }
 },
 "nbformat": 4,
 "nbformat_minor": 5
}
