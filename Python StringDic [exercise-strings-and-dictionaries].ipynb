{
 "cells": [
  {
   "cell_type": "markdown",
   "id": "094d03ba",
   "metadata": {
    "papermill": {
     "duration": 0.016836,
     "end_time": "2021-08-08T04:40:21.728078",
     "exception": false,
     "start_time": "2021-08-08T04:40:21.711242",
     "status": "completed"
    },
    "tags": []
   },
   "source": [
    "**This notebook is an exercise in the [Python](https://www.kaggle.com/learn/python) course.  You can reference the tutorial at [this link](https://www.kaggle.com/colinmorris/strings-and-dictionaries).**\n",
    "\n",
    "---\n"
   ]
  },
  {
   "cell_type": "markdown",
   "id": "954a8e26",
   "metadata": {
    "papermill": {
     "duration": 0.015294,
     "end_time": "2021-08-08T04:40:21.759350",
     "exception": false,
     "start_time": "2021-08-08T04:40:21.744056",
     "status": "completed"
    },
    "tags": []
   },
   "source": [
    "You are almost done with the course. Nice job!\n",
    "\n",
    "We have a couple more interesting problems for you before you go. \n",
    "\n",
    "As always, run the setup code below before working on the questions."
   ]
  },
  {
   "cell_type": "code",
   "execution_count": 1,
   "id": "3d6e3acb",
   "metadata": {
    "execution": {
     "iopub.execute_input": "2021-08-08T04:40:21.795481Z",
     "iopub.status.busy": "2021-08-08T04:40:21.794332Z",
     "iopub.status.idle": "2021-08-08T04:40:21.941794Z",
     "shell.execute_reply": "2021-08-08T04:40:21.941099Z",
     "shell.execute_reply.started": "2021-08-08T03:48:16.124868Z"
    },
    "papermill": {
     "duration": 0.166478,
     "end_time": "2021-08-08T04:40:21.941973",
     "exception": false,
     "start_time": "2021-08-08T04:40:21.775495",
     "status": "completed"
    },
    "tags": []
   },
   "outputs": [
    {
     "name": "stdout",
     "output_type": "stream",
     "text": [
      "Setup complete.\n"
     ]
    }
   ],
   "source": [
    "from learntools.core import binder; binder.bind(globals())\n",
    "from learntools.python.ex6 import *\n",
    "print('Setup complete.')"
   ]
  },
  {
   "cell_type": "markdown",
   "id": "4da19d24",
   "metadata": {
    "papermill": {
     "duration": 0.015651,
     "end_time": "2021-08-08T04:40:21.974194",
     "exception": false,
     "start_time": "2021-08-08T04:40:21.958543",
     "status": "completed"
    },
    "tags": []
   },
   "source": [
    "Let's start with a string lightning round to warm up. What are the lengths of the strings below?\n",
    "\n",
    "For each of the five strings below, predict what `len()` would return when passed that string. Use the variable `length` to record your answer, then run the cell to check whether you were right.  \n",
    "\n",
    "# 0a."
   ]
  },
  {
   "cell_type": "code",
   "execution_count": 2,
   "id": "f37e06c6",
   "metadata": {
    "execution": {
     "iopub.execute_input": "2021-08-08T04:40:22.014103Z",
     "iopub.status.busy": "2021-08-08T04:40:22.013366Z",
     "iopub.status.idle": "2021-08-08T04:40:22.019816Z",
     "shell.execute_reply": "2021-08-08T04:40:22.019273Z",
     "shell.execute_reply.started": "2021-08-08T03:48:43.522915Z"
    },
    "papermill": {
     "duration": 0.029729,
     "end_time": "2021-08-08T04:40:22.019954",
     "exception": false,
     "start_time": "2021-08-08T04:40:21.990225",
     "status": "completed"
    },
    "tags": []
   },
   "outputs": [
    {
     "data": {
      "application/javascript": [
       "parent.postMessage({\"jupyterEvent\": \"custom.exercise_interaction\", \"data\": {\"outcomeType\": 1, \"valueTowardsCompletion\": 0.3333333333333333, \"interactionType\": 1, \"questionType\": 1, \"questionId\": \"0.1_ZA\", \"learnToolsVersion\": \"0.3.4\", \"failureMessage\": \"\", \"exceptionClass\": \"\", \"trace\": \"\"}}, \"*\")"
      ],
      "text/plain": [
       "<IPython.core.display.Javascript object>"
      ]
     },
     "metadata": {},
     "output_type": "display_data"
    },
    {
     "data": {
      "text/markdown": [
       "<span style=\"color:#33cc33\">Correct:</span> \n",
       "\n",
       "The empty string has length zero. Note that the empty string is also the only string that Python considers as False when converting to boolean."
      ],
      "text/plain": [
       "Correct: \n",
       "\n",
       "The empty string has length zero. Note that the empty string is also the only string that Python considers as False when converting to boolean."
      ]
     },
     "metadata": {},
     "output_type": "display_data"
    }
   ],
   "source": [
    "a = \"\"\n",
    "length = len(a)\n",
    "q0.a.check()"
   ]
  },
  {
   "cell_type": "markdown",
   "id": "32799c06",
   "metadata": {
    "papermill": {
     "duration": 0.01667,
     "end_time": "2021-08-08T04:40:22.053814",
     "exception": false,
     "start_time": "2021-08-08T04:40:22.037144",
     "status": "completed"
    },
    "tags": []
   },
   "source": [
    "# 0b."
   ]
  },
  {
   "cell_type": "code",
   "execution_count": 3,
   "id": "5db47ae1",
   "metadata": {
    "execution": {
     "iopub.execute_input": "2021-08-08T04:40:22.090783Z",
     "iopub.status.busy": "2021-08-08T04:40:22.090120Z",
     "iopub.status.idle": "2021-08-08T04:40:22.096377Z",
     "shell.execute_reply": "2021-08-08T04:40:22.097016Z",
     "shell.execute_reply.started": "2021-08-08T03:48:52.911556Z"
    },
    "papermill": {
     "duration": 0.026442,
     "end_time": "2021-08-08T04:40:22.097185",
     "exception": false,
     "start_time": "2021-08-08T04:40:22.070743",
     "status": "completed"
    },
    "tags": []
   },
   "outputs": [
    {
     "data": {
      "application/javascript": [
       "parent.postMessage({\"jupyterEvent\": \"custom.exercise_interaction\", \"data\": {\"outcomeType\": 1, \"valueTowardsCompletion\": 0.3333333333333333, \"interactionType\": 1, \"questionType\": 1, \"questionId\": \"0.2_ZB\", \"learnToolsVersion\": \"0.3.4\", \"failureMessage\": \"\", \"exceptionClass\": \"\", \"trace\": \"\"}}, \"*\")"
      ],
      "text/plain": [
       "<IPython.core.display.Javascript object>"
      ]
     },
     "metadata": {},
     "output_type": "display_data"
    },
    {
     "data": {
      "text/markdown": [
       "<span style=\"color:#33cc33\">Correct:</span> \n",
       "\n",
       "Keep in mind Python includes spaces (and punctuation) when counting string length."
      ],
      "text/plain": [
       "Correct: \n",
       "\n",
       "Keep in mind Python includes spaces (and punctuation) when counting string length."
      ]
     },
     "metadata": {},
     "output_type": "display_data"
    }
   ],
   "source": [
    "b = \"it's ok\"\n",
    "length = len(b)\n",
    "q0.b.check()"
   ]
  },
  {
   "cell_type": "markdown",
   "id": "fe496ee8",
   "metadata": {
    "papermill": {
     "duration": 0.021358,
     "end_time": "2021-08-08T04:40:22.141145",
     "exception": false,
     "start_time": "2021-08-08T04:40:22.119787",
     "status": "completed"
    },
    "tags": []
   },
   "source": [
    "# 0c."
   ]
  },
  {
   "cell_type": "code",
   "execution_count": 4,
   "id": "57550bfb",
   "metadata": {
    "execution": {
     "iopub.execute_input": "2021-08-08T04:40:22.199241Z",
     "iopub.status.busy": "2021-08-08T04:40:22.198225Z",
     "iopub.status.idle": "2021-08-08T04:40:22.205294Z",
     "shell.execute_reply": "2021-08-08T04:40:22.205943Z",
     "shell.execute_reply.started": "2021-08-08T03:49:01.171426Z"
    },
    "papermill": {
     "duration": 0.036858,
     "end_time": "2021-08-08T04:40:22.206165",
     "exception": false,
     "start_time": "2021-08-08T04:40:22.169307",
     "status": "completed"
    },
    "tags": []
   },
   "outputs": [
    {
     "data": {
      "application/javascript": [
       "parent.postMessage({\"jupyterEvent\": \"custom.exercise_interaction\", \"data\": {\"outcomeType\": 1, \"valueTowardsCompletion\": 0.3333333333333333, \"interactionType\": 1, \"questionType\": 1, \"questionId\": \"0.3_ZC\", \"learnToolsVersion\": \"0.3.4\", \"failureMessage\": \"\", \"exceptionClass\": \"\", \"trace\": \"\"}}, \"*\")"
      ],
      "text/plain": [
       "<IPython.core.display.Javascript object>"
      ]
     },
     "metadata": {},
     "output_type": "display_data"
    },
    {
     "data": {
      "text/markdown": [
       "<span style=\"color:#33cc33\">Correct:</span> \n",
       "\n",
       "Even though we use different syntax to create it, the string `c` is identical to `b`. In particular, note that the backslash is not part of the string, so it doesn't contribute to its length."
      ],
      "text/plain": [
       "Correct: \n",
       "\n",
       "Even though we use different syntax to create it, the string `c` is identical to `b`. In particular, note that the backslash is not part of the string, so it doesn't contribute to its length."
      ]
     },
     "metadata": {},
     "output_type": "display_data"
    }
   ],
   "source": [
    "c = 'it\\'s ok'\n",
    "length = len(c)\n",
    "q0.c.check()"
   ]
  },
  {
   "cell_type": "markdown",
   "id": "8503731a",
   "metadata": {
    "papermill": {
     "duration": 0.018719,
     "end_time": "2021-08-08T04:40:22.246531",
     "exception": false,
     "start_time": "2021-08-08T04:40:22.227812",
     "status": "completed"
    },
    "tags": []
   },
   "source": [
    "# 0d."
   ]
  },
  {
   "cell_type": "code",
   "execution_count": 5,
   "id": "3c12cf21",
   "metadata": {
    "execution": {
     "iopub.execute_input": "2021-08-08T04:40:22.287887Z",
     "iopub.status.busy": "2021-08-08T04:40:22.287077Z",
     "iopub.status.idle": "2021-08-08T04:40:22.294524Z",
     "shell.execute_reply": "2021-08-08T04:40:22.293979Z",
     "shell.execute_reply.started": "2021-08-08T03:49:14.132376Z"
    },
    "papermill": {
     "duration": 0.029127,
     "end_time": "2021-08-08T04:40:22.294664",
     "exception": false,
     "start_time": "2021-08-08T04:40:22.265537",
     "status": "completed"
    },
    "tags": []
   },
   "outputs": [
    {
     "data": {
      "application/javascript": [
       "parent.postMessage({\"jupyterEvent\": \"custom.exercise_interaction\", \"data\": {\"outcomeType\": 1, \"valueTowardsCompletion\": 0.3333333333333333, \"interactionType\": 1, \"questionType\": 1, \"questionId\": \"0.4_ZD\", \"learnToolsVersion\": \"0.3.4\", \"failureMessage\": \"\", \"exceptionClass\": \"\", \"trace\": \"\"}}, \"*\")"
      ],
      "text/plain": [
       "<IPython.core.display.Javascript object>"
      ]
     },
     "metadata": {},
     "output_type": "display_data"
    },
    {
     "data": {
      "text/markdown": [
       "<span style=\"color:#33cc33\">Correct:</span> \n",
       "\n",
       "The fact that this string was created using triple-quote syntax doesn't make any difference in terms of its content or length. This string is exactly the same as `'hey'`."
      ],
      "text/plain": [
       "Correct: \n",
       "\n",
       "The fact that this string was created using triple-quote syntax doesn't make any difference in terms of its content or length. This string is exactly the same as `'hey'`."
      ]
     },
     "metadata": {},
     "output_type": "display_data"
    }
   ],
   "source": [
    "d = \"\"\"hey\"\"\"\n",
    "length = len(d)\n",
    "q0.d.check()"
   ]
  },
  {
   "cell_type": "markdown",
   "id": "84bb575f",
   "metadata": {
    "papermill": {
     "duration": 0.019817,
     "end_time": "2021-08-08T04:40:22.334656",
     "exception": false,
     "start_time": "2021-08-08T04:40:22.314839",
     "status": "completed"
    },
    "tags": []
   },
   "source": [
    "# 0e."
   ]
  },
  {
   "cell_type": "code",
   "execution_count": 6,
   "id": "dd20423f",
   "metadata": {
    "execution": {
     "iopub.execute_input": "2021-08-08T04:40:22.380541Z",
     "iopub.status.busy": "2021-08-08T04:40:22.379760Z",
     "iopub.status.idle": "2021-08-08T04:40:22.384842Z",
     "shell.execute_reply": "2021-08-08T04:40:22.385321Z",
     "shell.execute_reply.started": "2021-08-08T03:49:22.609814Z"
    },
    "papermill": {
     "duration": 0.030664,
     "end_time": "2021-08-08T04:40:22.385502",
     "exception": false,
     "start_time": "2021-08-08T04:40:22.354838",
     "status": "completed"
    },
    "tags": []
   },
   "outputs": [
    {
     "data": {
      "application/javascript": [
       "parent.postMessage({\"jupyterEvent\": \"custom.exercise_interaction\", \"data\": {\"outcomeType\": 1, \"valueTowardsCompletion\": 0.3333333333333333, \"interactionType\": 1, \"questionType\": 1, \"questionId\": \"0.5_ZE\", \"learnToolsVersion\": \"0.3.4\", \"failureMessage\": \"\", \"exceptionClass\": \"\", \"trace\": \"\"}}, \"*\")"
      ],
      "text/plain": [
       "<IPython.core.display.Javascript object>"
      ]
     },
     "metadata": {},
     "output_type": "display_data"
    },
    {
     "data": {
      "text/markdown": [
       "<span style=\"color:#33cc33\">Correct:</span> \n",
       "\n",
       "The newline character is just a single character! (Even though we represent it to Python using a combination of two characters.)"
      ],
      "text/plain": [
       "Correct: \n",
       "\n",
       "The newline character is just a single character! (Even though we represent it to Python using a combination of two characters.)"
      ]
     },
     "metadata": {},
     "output_type": "display_data"
    }
   ],
   "source": [
    "e = '\\n'\n",
    "length = len(e)\n",
    "q0.e.check()"
   ]
  },
  {
   "cell_type": "markdown",
   "id": "50542b1a",
   "metadata": {
    "papermill": {
     "duration": 0.020597,
     "end_time": "2021-08-08T04:40:22.427149",
     "exception": false,
     "start_time": "2021-08-08T04:40:22.406552",
     "status": "completed"
    },
    "tags": []
   },
   "source": [
    "# 1.\n",
    "\n",
    "There is a saying that \"Data scientists spend 80% of their time cleaning data, and 20% of their time complaining about cleaning data.\" Let's see if you can write a function to help clean US zip code data. Given a string, it should return whether or not that string represents a valid zip code. For our purposes, a valid zip code is any string consisting of exactly 5 digits.\n",
    "\n",
    "HINT: `str` has a method that will be useful here. Use `help(str)` to review a list of string methods."
   ]
  },
  {
   "cell_type": "code",
   "execution_count": 7,
   "id": "b401d4cd",
   "metadata": {
    "execution": {
     "iopub.execute_input": "2021-08-08T04:40:22.472827Z",
     "iopub.status.busy": "2021-08-08T04:40:22.471868Z",
     "iopub.status.idle": "2021-08-08T04:40:22.480357Z",
     "shell.execute_reply": "2021-08-08T04:40:22.480892Z",
     "shell.execute_reply.started": "2021-08-08T03:55:08.792793Z"
    },
    "papermill": {
     "duration": 0.032762,
     "end_time": "2021-08-08T04:40:22.481061",
     "exception": false,
     "start_time": "2021-08-08T04:40:22.448299",
     "status": "completed"
    },
    "tags": []
   },
   "outputs": [
    {
     "data": {
      "application/javascript": [
       "parent.postMessage({\"jupyterEvent\": \"custom.exercise_interaction\", \"data\": {\"outcomeType\": 1, \"valueTowardsCompletion\": 0.3333333333333333, \"interactionType\": 1, \"questionType\": 2, \"questionId\": \"1_ZipValidator\", \"learnToolsVersion\": \"0.3.4\", \"failureMessage\": \"\", \"exceptionClass\": \"\", \"trace\": \"\"}}, \"*\")"
      ],
      "text/plain": [
       "<IPython.core.display.Javascript object>"
      ]
     },
     "metadata": {},
     "output_type": "display_data"
    },
    {
     "data": {
      "text/markdown": [
       "<span style=\"color:#33cc33\">Correct</span>"
      ],
      "text/plain": [
       "Correct"
      ]
     },
     "metadata": {},
     "output_type": "display_data"
    }
   ],
   "source": [
    "def is_valid_zip(zip_code):\n",
    "    \"\"\"Returns whether the input string is a valid (5 digit) zip code\n",
    "    \"\"\"\n",
    "    if (zip_code.isnumeric() and len(zip_code) == 5):\n",
    "        return True\n",
    "    else:\n",
    "        return False\n",
    "\n",
    "# Check your answer\n",
    "q1.check()"
   ]
  },
  {
   "cell_type": "code",
   "execution_count": 8,
   "id": "7968f3cb",
   "metadata": {
    "execution": {
     "iopub.execute_input": "2021-08-08T04:40:22.529319Z",
     "iopub.status.busy": "2021-08-08T04:40:22.528691Z",
     "iopub.status.idle": "2021-08-08T04:40:22.531605Z",
     "shell.execute_reply": "2021-08-08T04:40:22.531056Z"
    },
    "papermill": {
     "duration": 0.028768,
     "end_time": "2021-08-08T04:40:22.531753",
     "exception": false,
     "start_time": "2021-08-08T04:40:22.502985",
     "status": "completed"
    },
    "tags": []
   },
   "outputs": [],
   "source": [
    "#q1.hint()\n",
    "#q1.solution()"
   ]
  },
  {
   "cell_type": "markdown",
   "id": "3d38e757",
   "metadata": {
    "papermill": {
     "duration": 0.021855,
     "end_time": "2021-08-08T04:40:22.575782",
     "exception": false,
     "start_time": "2021-08-08T04:40:22.553927",
     "status": "completed"
    },
    "tags": []
   },
   "source": [
    "# 2.\n",
    "\n",
    "A researcher has gathered thousands of news articles. But she wants to focus her attention on articles including a specific word. Complete the function below to help her filter her list of articles.\n",
    "\n",
    "Your function should meet the following criteria:\n",
    "\n",
    "- Do not include documents where the keyword string shows up only as a part of a larger word. For example, if she were looking for the keyword “closed”, you would not include the string “enclosed.” \n",
    "- She does not want you to distinguish upper case from lower case letters. So the phrase “Closed the case.” would be included when the keyword is “closed”\n",
    "- Do not let periods or commas affect what is matched. “It is closed.” would be included when the keyword is “closed”. But you can assume there are no other types of punctuation."
   ]
  },
  {
   "cell_type": "code",
   "execution_count": 9,
   "id": "4e3353c2",
   "metadata": {
    "execution": {
     "iopub.execute_input": "2021-08-08T04:40:22.628216Z",
     "iopub.status.busy": "2021-08-08T04:40:22.627559Z",
     "iopub.status.idle": "2021-08-08T04:40:22.633229Z",
     "shell.execute_reply": "2021-08-08T04:40:22.632735Z",
     "shell.execute_reply.started": "2021-08-08T04:34:37.234157Z"
    },
    "papermill": {
     "duration": 0.035575,
     "end_time": "2021-08-08T04:40:22.633369",
     "exception": false,
     "start_time": "2021-08-08T04:40:22.597794",
     "status": "completed"
    },
    "tags": []
   },
   "outputs": [
    {
     "data": {
      "application/javascript": [
       "parent.postMessage({\"jupyterEvent\": \"custom.exercise_interaction\", \"data\": {\"outcomeType\": 1, \"valueTowardsCompletion\": 0.3333333333333333, \"interactionType\": 1, \"questionType\": 2, \"questionId\": \"2_WordSearch\", \"learnToolsVersion\": \"0.3.4\", \"failureMessage\": \"\", \"exceptionClass\": \"\", \"trace\": \"\"}}, \"*\")"
      ],
      "text/plain": [
       "<IPython.core.display.Javascript object>"
      ]
     },
     "metadata": {},
     "output_type": "display_data"
    },
    {
     "data": {
      "text/markdown": [
       "<span style=\"color:#33cc33\">Correct</span>"
      ],
      "text/plain": [
       "Correct"
      ]
     },
     "metadata": {},
     "output_type": "display_data"
    }
   ],
   "source": [
    "\n",
    "def word_search(doc_list, keyword):\n",
    "    \"\"\"\n",
    "    Takes a list of documents (each document is a string) and a keyword. \n",
    "    Returns list of the index values into the original list for all documents \n",
    "    containing the keyword.\n",
    "\n",
    "    Example:\n",
    "    doc_list = [\"The Learn Python Challenge Casino.\", \"They bought a car\", \"Casinoville\"]\n",
    "    >>> word_search(doc_list, 'casino')\n",
    "    >>> [0]\n",
    "    \"\"\"\n",
    "    keyword = keyword.lower()\n",
    "    doc_List = [i.lower() for i in doc_list]\n",
    "#     print(doc_List)\n",
    "    app = []\n",
    "    \n",
    "    for i, doc in enumerate(doc_list):\n",
    "        \n",
    "        tokens = doc.split()\n",
    "        \n",
    "        normalized = [token.rstrip('.,').lower() for token in tokens] # removing special cchar . & ,\n",
    "        \n",
    "        \n",
    "        \n",
    "        if keyword.lower() in normalized:\n",
    "            app.append(i)\n",
    "            \n",
    "    return app\n",
    "            \n",
    "    \n",
    "    \n",
    "#     checkLis = keyword in [i.lower() for i in doc_list]\n",
    "    \n",
    "\n",
    "# Check your answer\n",
    "q2.check()"
   ]
  },
  {
   "cell_type": "code",
   "execution_count": 10,
   "id": "9dadbd1a",
   "metadata": {
    "execution": {
     "iopub.execute_input": "2021-08-08T04:40:22.684162Z",
     "iopub.status.busy": "2021-08-08T04:40:22.683507Z",
     "iopub.status.idle": "2021-08-08T04:40:22.685792Z",
     "shell.execute_reply": "2021-08-08T04:40:22.686282Z"
    },
    "papermill": {
     "duration": 0.029229,
     "end_time": "2021-08-08T04:40:22.686464",
     "exception": false,
     "start_time": "2021-08-08T04:40:22.657235",
     "status": "completed"
    },
    "tags": []
   },
   "outputs": [],
   "source": [
    "#q2.hint()\n",
    "#q2.solution()"
   ]
  },
  {
   "cell_type": "markdown",
   "id": "f2ef9a94",
   "metadata": {
    "papermill": {
     "duration": 0.022881,
     "end_time": "2021-08-08T04:40:22.732552",
     "exception": false,
     "start_time": "2021-08-08T04:40:22.709671",
     "status": "completed"
    },
    "tags": []
   },
   "source": [
    "# 3.\n",
    "\n",
    "Now the researcher wants to supply multiple keywords to search for. Complete the function below to help her.\n",
    "\n",
    "(You're encouraged to use the `word_search` function you just wrote when implementing this function. Reusing code in this way makes your programs more robust and readable - and it saves typing!)"
   ]
  },
  {
   "cell_type": "code",
   "execution_count": 11,
   "id": "9ed1fbc7",
   "metadata": {
    "execution": {
     "iopub.execute_input": "2021-08-08T04:40:22.785911Z",
     "iopub.status.busy": "2021-08-08T04:40:22.784932Z",
     "iopub.status.idle": "2021-08-08T04:40:22.790815Z",
     "shell.execute_reply": "2021-08-08T04:40:22.791247Z",
     "shell.execute_reply.started": "2021-08-08T04:39:25.210281Z"
    },
    "papermill": {
     "duration": 0.035861,
     "end_time": "2021-08-08T04:40:22.791442",
     "exception": false,
     "start_time": "2021-08-08T04:40:22.755581",
     "status": "completed"
    },
    "tags": []
   },
   "outputs": [
    {
     "data": {
      "application/javascript": [
       "parent.postMessage({\"jupyterEvent\": \"custom.exercise_interaction\", \"data\": {\"outcomeType\": 1, \"valueTowardsCompletion\": 0.3333333333333333, \"interactionType\": 1, \"questionType\": 2, \"questionId\": \"3_MultiWordSearch\", \"learnToolsVersion\": \"0.3.4\", \"failureMessage\": \"\", \"exceptionClass\": \"\", \"trace\": \"\"}}, \"*\")"
      ],
      "text/plain": [
       "<IPython.core.display.Javascript object>"
      ]
     },
     "metadata": {},
     "output_type": "display_data"
    },
    {
     "data": {
      "text/markdown": [
       "<span style=\"color:#33cc33\">Correct</span>"
      ],
      "text/plain": [
       "Correct"
      ]
     },
     "metadata": {},
     "output_type": "display_data"
    }
   ],
   "source": [
    "def multi_word_search(doc_list, keywords):\n",
    "    \"\"\"\n",
    "    Takes list of documents (each document is a string) and a list of keywords.  \n",
    "    Returns a dictionary where each key is a keyword, and the value is a list of indices\n",
    "    (from doc_list) of the documents containing that keyword\n",
    "\n",
    "    >>> doc_list = [\"The Learn Python Challenge Casino.\", \"They bought a car and a casino\", \"Casinoville\"]\n",
    "    >>> keywords = ['casino', 'they']\n",
    "    >>> multi_word_search(doc_list, keywords)\n",
    "    {'casino': [0, 1], 'they': [1]}\n",
    "    \"\"\"\n",
    "    ans = dict()\n",
    "    for key in keywords:\n",
    "        ans[key] = word_search(doc_list, key)\n",
    "    return ans\n",
    "\n",
    "# Check your answer\n",
    "q3.check()"
   ]
  },
  {
   "cell_type": "code",
   "execution_count": 12,
   "id": "a73cdc6d",
   "metadata": {
    "execution": {
     "iopub.execute_input": "2021-08-08T04:40:22.844087Z",
     "iopub.status.busy": "2021-08-08T04:40:22.843383Z",
     "iopub.status.idle": "2021-08-08T04:40:22.846816Z",
     "shell.execute_reply": "2021-08-08T04:40:22.846304Z"
    },
    "papermill": {
     "duration": 0.031442,
     "end_time": "2021-08-08T04:40:22.846958",
     "exception": false,
     "start_time": "2021-08-08T04:40:22.815516",
     "status": "completed"
    },
    "tags": []
   },
   "outputs": [],
   "source": [
    "#q3.solution()"
   ]
  },
  {
   "cell_type": "markdown",
   "id": "6e5463c8",
   "metadata": {
    "papermill": {
     "duration": 0.024189,
     "end_time": "2021-08-08T04:40:22.896142",
     "exception": false,
     "start_time": "2021-08-08T04:40:22.871953",
     "status": "completed"
    },
    "tags": []
   },
   "source": [
    "# Keep Going\n",
    "\n",
    "You've learned a lot. But even the best programmers rely heavily on \"libraries\" of code from other programmers. You'll learn about that in **[the last lesson](https://www.kaggle.com/colinmorris/working-with-external-libraries)**.\n"
   ]
  },
  {
   "cell_type": "markdown",
   "id": "d696be27",
   "metadata": {
    "papermill": {
     "duration": 0.024961,
     "end_time": "2021-08-08T04:40:22.945828",
     "exception": false,
     "start_time": "2021-08-08T04:40:22.920867",
     "status": "completed"
    },
    "tags": []
   },
   "source": [
    "---\n",
    "\n",
    "\n",
    "\n",
    "\n",
    "*Have questions or comments? Visit the [Learn Discussion forum](https://www.kaggle.com/learn-forum/161283) to chat with other Learners.*"
   ]
  }
 ],
 "metadata": {
  "kernelspec": {
   "display_name": "Python 3",
   "language": "python",
   "name": "python3"
  },
  "language_info": {
   "codemirror_mode": {
    "name": "ipython",
    "version": 3
   },
   "file_extension": ".py",
   "mimetype": "text/x-python",
   "name": "python",
   "nbconvert_exporter": "python",
   "pygments_lexer": "ipython3",
   "version": "3.7.10"
  },
  "papermill": {
   "default_parameters": {},
   "duration": 10.830472,
   "end_time": "2021-08-08T04:40:24.224341",
   "environment_variables": {},
   "exception": null,
   "input_path": "__notebook__.ipynb",
   "output_path": "__notebook__.ipynb",
   "parameters": {},
   "start_time": "2021-08-08T04:40:13.393869",
   "version": "2.3.3"
  }
 },
 "nbformat": 4,
 "nbformat_minor": 5
}
