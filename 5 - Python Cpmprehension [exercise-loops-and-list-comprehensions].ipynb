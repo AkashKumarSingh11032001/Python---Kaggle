{
 "cells": [
  {
   "cell_type": "markdown",
   "id": "a048cb58",
   "metadata": {
    "papermill": {
     "duration": 0.013636,
     "end_time": "2021-08-07T03:28:09.124034",
     "exception": false,
     "start_time": "2021-08-07T03:28:09.110398",
     "status": "completed"
    },
    "tags": []
   },
   "source": [
    "**This notebook is an exercise in the [Python](https://www.kaggle.com/learn/python) course.  You can reference the tutorial at [this link](https://www.kaggle.com/colinmorris/loops-and-list-comprehensions).**\n",
    "\n",
    "---\n"
   ]
  },
  {
   "cell_type": "markdown",
   "id": "f4d944dd",
   "metadata": {
    "papermill": {
     "duration": 0.011863,
     "end_time": "2021-08-07T03:28:09.148589",
     "exception": false,
     "start_time": "2021-08-07T03:28:09.136726",
     "status": "completed"
    },
    "tags": []
   },
   "source": [
    "With all you've learned, you can start writing much more interesting programs. See if you can solve the problems below.\n",
    "\n",
    "As always, run the setup code below before working on the questions."
   ]
  },
  {
   "cell_type": "code",
   "execution_count": 1,
   "id": "2c9e99f3",
   "metadata": {
    "execution": {
     "iopub.execute_input": "2021-08-07T03:28:09.182621Z",
     "iopub.status.busy": "2021-08-07T03:28:09.181992Z",
     "iopub.status.idle": "2021-08-07T03:28:09.301504Z",
     "shell.execute_reply": "2021-08-07T03:28:09.300591Z",
     "shell.execute_reply.started": "2021-08-07T03:01:56.295378Z"
    },
    "papermill": {
     "duration": 0.141015,
     "end_time": "2021-08-07T03:28:09.301739",
     "exception": false,
     "start_time": "2021-08-07T03:28:09.160724",
     "status": "completed"
    },
    "tags": []
   },
   "outputs": [
    {
     "name": "stdout",
     "output_type": "stream",
     "text": [
      "Setup complete.\n"
     ]
    }
   ],
   "source": [
    "from learntools.core import binder; binder.bind(globals())\n",
    "from learntools.python.ex5 import *\n",
    "print('Setup complete.')"
   ]
  },
  {
   "cell_type": "markdown",
   "id": "fe0b49e5",
   "metadata": {
    "papermill": {
     "duration": 0.012666,
     "end_time": "2021-08-07T03:28:09.327707",
     "exception": false,
     "start_time": "2021-08-07T03:28:09.315041",
     "status": "completed"
    },
    "tags": []
   },
   "source": [
    "# 1.\n",
    "\n",
    "Have you ever felt debugging involved a bit of luck? The following program has a bug. Try to identify the bug and fix it."
   ]
  },
  {
   "cell_type": "code",
   "execution_count": 2,
   "id": "d06b5044",
   "metadata": {
    "execution": {
     "iopub.execute_input": "2021-08-07T03:28:09.358743Z",
     "iopub.status.busy": "2021-08-07T03:28:09.358077Z",
     "iopub.status.idle": "2021-08-07T03:28:09.361064Z",
     "shell.execute_reply": "2021-08-07T03:28:09.360602Z",
     "shell.execute_reply.started": "2021-08-07T03:03:04.051793Z"
    },
    "papermill": {
     "duration": 0.020571,
     "end_time": "2021-08-07T03:28:09.361221",
     "exception": false,
     "start_time": "2021-08-07T03:28:09.340650",
     "status": "completed"
    },
    "tags": []
   },
   "outputs": [],
   "source": [
    "def has_lucky_number(nums):\n",
    "    \"\"\"Return whether the given list of numbers is lucky. A lucky list contains\n",
    "    at least one number divisible by 7.\n",
    "    \"\"\"\n",
    "    for num in nums:\n",
    "        if num % 7 == 0:\n",
    "            return True\n",
    "        else:\n",
    "            return False"
   ]
  },
  {
   "cell_type": "markdown",
   "id": "dcf24359",
   "metadata": {
    "papermill": {
     "duration": 0.012238,
     "end_time": "2021-08-07T03:28:09.385884",
     "exception": false,
     "start_time": "2021-08-07T03:28:09.373646",
     "status": "completed"
    },
    "tags": []
   },
   "source": [
    "Try to identify the bug and fix it in the cell below:"
   ]
  },
  {
   "cell_type": "code",
   "execution_count": 3,
   "id": "6ff9d3ea",
   "metadata": {
    "execution": {
     "iopub.execute_input": "2021-08-07T03:28:09.418628Z",
     "iopub.status.busy": "2021-08-07T03:28:09.417638Z",
     "iopub.status.idle": "2021-08-07T03:28:09.424430Z",
     "shell.execute_reply": "2021-08-07T03:28:09.423919Z",
     "shell.execute_reply.started": "2021-08-07T03:09:00.504370Z"
    },
    "papermill": {
     "duration": 0.026198,
     "end_time": "2021-08-07T03:28:09.424569",
     "exception": false,
     "start_time": "2021-08-07T03:28:09.398371",
     "status": "completed"
    },
    "tags": []
   },
   "outputs": [
    {
     "data": {
      "application/javascript": [
       "parent.postMessage({\"jupyterEvent\": \"custom.exercise_interaction\", \"data\": {\"outcomeType\": 1, \"valueTowardsCompletion\": 0.25, \"interactionType\": 1, \"questionType\": 2, \"questionId\": \"1_EarlyExitDebugging\", \"learnToolsVersion\": \"0.3.4\", \"failureMessage\": \"\", \"exceptionClass\": \"\", \"trace\": \"\"}}, \"*\")"
      ],
      "text/plain": [
       "<IPython.core.display.Javascript object>"
      ]
     },
     "metadata": {},
     "output_type": "display_data"
    },
    {
     "data": {
      "text/markdown": [
       "<span style=\"color:#33cc33\">Correct:</span> \n",
       "\n",
       "Remember that `return` causes a function to exit immediately. So our original implementation always ran for just one iteration. We can only return `False` if we've looked at every element of the list (and confirmed that none of them are lucky). Though we can return early if the answer is `True`:\n",
       "\n",
       "```python\n",
       "def has_lucky_number(nums):\n",
       "    for num in nums:\n",
       "        if num % 7 == 0:\n",
       "            return True\n",
       "    # We've exhausted the list without finding a lucky number\n",
       "    return False\n",
       "```\n",
       "\n",
       "Here's a one-line version using a list comprehension with Python's `any` function (you can read about what it does by calling `help(any)`):\n",
       "\n",
       "```python\n",
       "def has_lucky_number(nums):\n",
       "    return any([num % 7 == 0 for num in nums])\n",
       "```\n"
      ],
      "text/plain": [
       "Correct: \n",
       "\n",
       "Remember that `return` causes a function to exit immediately. So our original implementation always ran for just one iteration. We can only return `False` if we've looked at every element of the list (and confirmed that none of them are lucky). Though we can return early if the answer is `True`:\n",
       "\n",
       "```python\n",
       "def has_lucky_number(nums):\n",
       "    for num in nums:\n",
       "        if num % 7 == 0:\n",
       "            return True\n",
       "    # We've exhausted the list without finding a lucky number\n",
       "    return False\n",
       "```\n",
       "\n",
       "Here's a one-line version using a list comprehension with Python's `any` function (you can read about what it does by calling `help(any)`):\n",
       "\n",
       "```python\n",
       "def has_lucky_number(nums):\n",
       "    return any([num % 7 == 0 for num in nums])\n",
       "```"
      ]
     },
     "metadata": {},
     "output_type": "display_data"
    }
   ],
   "source": [
    "def has_lucky_number(nums):\n",
    "    \"\"\"Return whether the given list of numbers is lucky. A lucky list contains\n",
    "    at least one number divisible by 7.\n",
    "    \"\"\"\n",
    "#     print(help(any))\n",
    "    return any(i %7 == 0 for i in nums)\n",
    "\n",
    "# Check your answer\n",
    "q1.check()"
   ]
  },
  {
   "cell_type": "code",
   "execution_count": 4,
   "id": "23f797e2",
   "metadata": {
    "execution": {
     "iopub.execute_input": "2021-08-07T03:28:09.455669Z",
     "iopub.status.busy": "2021-08-07T03:28:09.454712Z",
     "iopub.status.idle": "2021-08-07T03:28:09.457606Z",
     "shell.execute_reply": "2021-08-07T03:28:09.457090Z",
     "shell.execute_reply.started": "2021-08-07T03:08:51.391556Z"
    },
    "papermill": {
     "duration": 0.019866,
     "end_time": "2021-08-07T03:28:09.457738",
     "exception": false,
     "start_time": "2021-08-07T03:28:09.437872",
     "status": "completed"
    },
    "tags": []
   },
   "outputs": [],
   "source": [
    "#q1.hint()\n",
    "#q1.solution()"
   ]
  },
  {
   "cell_type": "markdown",
   "id": "e238d205",
   "metadata": {
    "papermill": {
     "duration": 0.013008,
     "end_time": "2021-08-07T03:28:09.483845",
     "exception": false,
     "start_time": "2021-08-07T03:28:09.470837",
     "status": "completed"
    },
    "tags": []
   },
   "source": [
    "# 2.\n",
    "Look at the Python expression below. What do you think we'll get when we run it? When you've made your prediction, uncomment the code and run the cell to see if you were right."
   ]
  },
  {
   "cell_type": "code",
   "execution_count": 5,
   "id": "17ff8c08",
   "metadata": {
    "execution": {
     "iopub.execute_input": "2021-08-07T03:28:09.514678Z",
     "iopub.status.busy": "2021-08-07T03:28:09.513832Z",
     "iopub.status.idle": "2021-08-07T03:28:09.516736Z",
     "shell.execute_reply": "2021-08-07T03:28:09.516233Z",
     "shell.execute_reply.started": "2021-08-07T03:09:42.695509Z"
    },
    "papermill": {
     "duration": 0.019738,
     "end_time": "2021-08-07T03:28:09.516866",
     "exception": false,
     "start_time": "2021-08-07T03:28:09.497128",
     "status": "completed"
    },
    "tags": []
   },
   "outputs": [],
   "source": [
    "# [1, 2, 3, 4] > 2"
   ]
  },
  {
   "cell_type": "markdown",
   "id": "5977137f",
   "metadata": {
    "papermill": {
     "duration": 0.012839,
     "end_time": "2021-08-07T03:28:09.542788",
     "exception": false,
     "start_time": "2021-08-07T03:28:09.529949",
     "status": "completed"
    },
    "tags": []
   },
   "source": [
    "R and Python have some libraries (like numpy and pandas) compare each element of the list to 2 (i.e. do an 'element-wise' comparison) and give us a list of booleans like `[False, False, True, True]`. \n",
    "\n",
    "Implement a function that reproduces this behaviour, returning a list of booleans corresponding to whether the corresponding element is greater than n."
   ]
  },
  {
   "cell_type": "code",
   "execution_count": 6,
   "id": "2e9d88ba",
   "metadata": {
    "execution": {
     "iopub.execute_input": "2021-08-07T03:28:09.572624Z",
     "iopub.status.busy": "2021-08-07T03:28:09.571690Z",
     "iopub.status.idle": "2021-08-07T03:28:09.582276Z",
     "shell.execute_reply": "2021-08-07T03:28:09.581513Z",
     "shell.execute_reply.started": "2021-08-07T03:12:54.340890Z"
    },
    "papermill": {
     "duration": 0.026461,
     "end_time": "2021-08-07T03:28:09.582441",
     "exception": false,
     "start_time": "2021-08-07T03:28:09.555980",
     "status": "completed"
    },
    "tags": []
   },
   "outputs": [
    {
     "data": {
      "application/javascript": [
       "parent.postMessage({\"jupyterEvent\": \"custom.exercise_interaction\", \"data\": {\"outcomeType\": 1, \"valueTowardsCompletion\": 0.25, \"interactionType\": 1, \"questionType\": 2, \"questionId\": \"2_ElementWiseComparison\", \"learnToolsVersion\": \"0.3.4\", \"failureMessage\": \"\", \"exceptionClass\": \"\", \"trace\": \"\"}}, \"*\")"
      ],
      "text/plain": [
       "<IPython.core.display.Javascript object>"
      ]
     },
     "metadata": {},
     "output_type": "display_data"
    },
    {
     "data": {
      "text/markdown": [
       "<span style=\"color:#33cc33\">Correct:</span> \n",
       "\n",
       "Here's one solution:\n",
       "```python\n",
       "def elementwise_greater_than(L, thresh):\n",
       "    res = []\n",
       "    for ele in L:\n",
       "        res.append(ele > thresh)\n",
       "    return res\n",
       "```\n",
       "\n",
       "And here's the list comprehension version:\n",
       "```python\n",
       "def elementwise_greater_than(L, thresh):\n",
       "    return [ele > thresh for ele in L]\n",
       "```\n"
      ],
      "text/plain": [
       "Correct: \n",
       "\n",
       "Here's one solution:\n",
       "```python\n",
       "def elementwise_greater_than(L, thresh):\n",
       "    res = []\n",
       "    for ele in L:\n",
       "        res.append(ele > thresh)\n",
       "    return res\n",
       "```\n",
       "\n",
       "And here's the list comprehension version:\n",
       "```python\n",
       "def elementwise_greater_than(L, thresh):\n",
       "    return [ele > thresh for ele in L]\n",
       "```"
      ]
     },
     "metadata": {},
     "output_type": "display_data"
    }
   ],
   "source": [
    "def elementwise_greater_than(L, thresh):\n",
    "    \"\"\"Return a list with the same length as L, where the value at index i is \n",
    "    True if L[i] is greater than thresh, and False otherwise.\n",
    "    \n",
    "    >>> elementwise_greater_than([1, 2, 3, 4], 2)\n",
    "    [False, False, True, True]\n",
    "    \"\"\"\n",
    "    return [i > thresh for i in L]\n",
    "\n",
    "# Check your answer\n",
    "q2.check()"
   ]
  },
  {
   "cell_type": "code",
   "execution_count": 7,
   "id": "42cb92b8",
   "metadata": {
    "execution": {
     "iopub.execute_input": "2021-08-07T03:28:09.621681Z",
     "iopub.status.busy": "2021-08-07T03:28:09.620673Z",
     "iopub.status.idle": "2021-08-07T03:28:09.622928Z",
     "shell.execute_reply": "2021-08-07T03:28:09.623624Z"
    },
    "papermill": {
     "duration": 0.026115,
     "end_time": "2021-08-07T03:28:09.623860",
     "exception": false,
     "start_time": "2021-08-07T03:28:09.597745",
     "status": "completed"
    },
    "tags": []
   },
   "outputs": [],
   "source": [
    "#q2.solution()"
   ]
  },
  {
   "cell_type": "markdown",
   "id": "5f28be5e",
   "metadata": {
    "papermill": {
     "duration": 0.017504,
     "end_time": "2021-08-07T03:28:09.656329",
     "exception": false,
     "start_time": "2021-08-07T03:28:09.638825",
     "status": "completed"
    },
    "tags": []
   },
   "source": [
    "# 3.\n",
    "\n",
    "Complete the body of the function below according to its docstring."
   ]
  },
  {
   "cell_type": "code",
   "execution_count": 8,
   "id": "e7388bde",
   "metadata": {
    "execution": {
     "iopub.execute_input": "2021-08-07T03:28:09.690300Z",
     "iopub.status.busy": "2021-08-07T03:28:09.689365Z",
     "iopub.status.idle": "2021-08-07T03:28:09.699342Z",
     "shell.execute_reply": "2021-08-07T03:28:09.698693Z",
     "shell.execute_reply.started": "2021-08-07T03:20:23.786352Z"
    },
    "papermill": {
     "duration": 0.026925,
     "end_time": "2021-08-07T03:28:09.699495",
     "exception": false,
     "start_time": "2021-08-07T03:28:09.672570",
     "status": "completed"
    },
    "tags": []
   },
   "outputs": [
    {
     "data": {
      "application/javascript": [
       "parent.postMessage({\"jupyterEvent\": \"custom.exercise_interaction\", \"data\": {\"outcomeType\": 1, \"valueTowardsCompletion\": 0.25, \"interactionType\": 1, \"questionType\": 2, \"questionId\": \"3_BoringMenu\", \"learnToolsVersion\": \"0.3.4\", \"failureMessage\": \"\", \"exceptionClass\": \"\", \"trace\": \"\"}}, \"*\")"
      ],
      "text/plain": [
       "<IPython.core.display.Javascript object>"
      ]
     },
     "metadata": {},
     "output_type": "display_data"
    },
    {
     "data": {
      "text/markdown": [
       "<span style=\"color:#33cc33\">Correct:</span> \n",
       "\n",
       "\n",
       "\n",
       "```python\n",
       "def menu_is_boring(meals):\n",
       "    # Iterate over all indices of the list, except the last one\n",
       "    for i in range(len(meals)-1):\n",
       "        if meals[i] == meals[i+1]:\n",
       "            return True\n",
       "    return False\n",
       "```\n",
       "\n",
       "The key to our solution is the call to `range`. `range(len(meals))` would give us all the indices of `meals`. If we had used that range, the last iteration of the loop would be comparing the last element to the element after it, which is... `IndexError`! `range(len(meals)-1)` gives us all the indices except the index of the last element.\n",
       "\n",
       "But don't we need to check if `meals` is empty? Turns out that `range(0) == range(-1)` - they're both empty. So if `meals` has length 0 or 1, we just won't do any iterations of our for loop.\n"
      ],
      "text/plain": [
       "Correct: \n",
       "\n",
       "\n",
       "\n",
       "```python\n",
       "def menu_is_boring(meals):\n",
       "    # Iterate over all indices of the list, except the last one\n",
       "    for i in range(len(meals)-1):\n",
       "        if meals[i] == meals[i+1]:\n",
       "            return True\n",
       "    return False\n",
       "```\n",
       "\n",
       "The key to our solution is the call to `range`. `range(len(meals))` would give us all the indices of `meals`. If we had used that range, the last iteration of the loop would be comparing the last element to the element after it, which is... `IndexError`! `range(len(meals)-1)` gives us all the indices except the index of the last element.\n",
       "\n",
       "But don't we need to check if `meals` is empty? Turns out that `range(0) == range(-1)` - they're both empty. So if `meals` has length 0 or 1, we just won't do any iterations of our for loop."
      ]
     },
     "metadata": {},
     "output_type": "display_data"
    }
   ],
   "source": [
    "def menu_is_boring(meals):\n",
    "    \"\"\"Given a list of meals served over some period of time, return True if the\n",
    "    same meal has ever been served two days in a row, and False otherwise.\n",
    "    \"\"\"\n",
    "    for i in range(len(meals)-1):\n",
    "        if meals[i] == meals[i+1]:\n",
    "            return True\n",
    "    return False\n",
    "\n",
    "# Check your answer\n",
    "q3.check()"
   ]
  },
  {
   "cell_type": "code",
   "execution_count": 9,
   "id": "884c91c2",
   "metadata": {
    "execution": {
     "iopub.execute_input": "2021-08-07T03:28:09.734276Z",
     "iopub.status.busy": "2021-08-07T03:28:09.733629Z",
     "iopub.status.idle": "2021-08-07T03:28:09.735513Z",
     "shell.execute_reply": "2021-08-07T03:28:09.735915Z",
     "shell.execute_reply.started": "2021-08-07T03:20:26.717319Z"
    },
    "papermill": {
     "duration": 0.020892,
     "end_time": "2021-08-07T03:28:09.736085",
     "exception": false,
     "start_time": "2021-08-07T03:28:09.715193",
     "status": "completed"
    },
    "tags": []
   },
   "outputs": [],
   "source": [
    "#q3.hint()\n",
    "#q3.solution()"
   ]
  },
  {
   "cell_type": "markdown",
   "id": "435c9c7c",
   "metadata": {
    "papermill": {
     "duration": 0.014703,
     "end_time": "2021-08-07T03:28:09.765911",
     "exception": false,
     "start_time": "2021-08-07T03:28:09.751208",
     "status": "completed"
    },
    "tags": []
   },
   "source": [
    "# 4. <span title=\"A bit spicy\" style=\"color: darkgreen \">🌶️</span>\n",
    "\n",
    "Next to the Blackjack table, the Python Challenge Casino has a slot machine. You can get a result from the slot machine by calling `play_slot_machine()`. The number it returns is your winnings in dollars. Usually it returns 0.  But sometimes you'll get lucky and get a big payday. Try running it below:"
   ]
  },
  {
   "cell_type": "code",
   "execution_count": 10,
   "id": "1cc8d4ac",
   "metadata": {
    "execution": {
     "iopub.execute_input": "2021-08-07T03:28:09.800789Z",
     "iopub.status.busy": "2021-08-07T03:28:09.800192Z",
     "iopub.status.idle": "2021-08-07T03:28:09.805285Z",
     "shell.execute_reply": "2021-08-07T03:28:09.804708Z",
     "shell.execute_reply.started": "2021-08-07T03:21:03.026758Z"
    },
    "papermill": {
     "duration": 0.024488,
     "end_time": "2021-08-07T03:28:09.805424",
     "exception": false,
     "start_time": "2021-08-07T03:28:09.780936",
     "status": "completed"
    },
    "tags": []
   },
   "outputs": [
    {
     "data": {
      "text/plain": [
       "0"
      ]
     },
     "execution_count": 10,
     "metadata": {},
     "output_type": "execute_result"
    }
   ],
   "source": [
    "play_slot_machine()"
   ]
  },
  {
   "cell_type": "markdown",
   "id": "f9bd4aba",
   "metadata": {
    "papermill": {
     "duration": 0.01509,
     "end_time": "2021-08-07T03:28:09.835690",
     "exception": false,
     "start_time": "2021-08-07T03:28:09.820600",
     "status": "completed"
    },
    "tags": []
   },
   "source": [
    "By the way, did we mention that each play costs $1? Don't worry, we'll send you the bill later.\n",
    "\n",
    "On average, how much money can you expect to gain (or lose) every time you play the machine?  The casino keeps it a secret, but you can estimate the average value of each pull using a technique called the **Monte Carlo method**. To estimate the average outcome, we simulate the scenario many times, and return the average result.\n",
    "\n",
    "Complete the following function to calculate the average value per play of the slot machine."
   ]
  },
  {
   "cell_type": "code",
   "execution_count": 11,
   "id": "4982e9d2",
   "metadata": {
    "execution": {
     "iopub.execute_input": "2021-08-07T03:28:09.871965Z",
     "iopub.status.busy": "2021-08-07T03:28:09.871329Z",
     "iopub.status.idle": "2021-08-07T03:28:09.874430Z",
     "shell.execute_reply": "2021-08-07T03:28:09.873910Z",
     "shell.execute_reply.started": "2021-08-07T03:27:06.994477Z"
    },
    "papermill": {
     "duration": 0.023548,
     "end_time": "2021-08-07T03:28:09.874577",
     "exception": false,
     "start_time": "2021-08-07T03:28:09.851029",
     "status": "completed"
    },
    "tags": []
   },
   "outputs": [],
   "source": [
    "def estimate_average_slot_payout(n_runs):\n",
    "    \"\"\"Run the slot machine n_runs times and return the average net profit per run.\n",
    "    Example calls (note that return value is nondeterministic!):\n",
    "    >>> estimate_average_slot_payout(1)\n",
    "    -1\n",
    "    >>> estimate_average_slot_payout(1)\n",
    "    0.5\n",
    "    \"\"\"\n",
    "    sum = 0\n",
    "    for i in range(n_run):\n",
    "        sum = sum + (estimate_average_slot_payout()-1)\n",
    "    return sum/n_runs\n",
    "        \n",
    "        "
   ]
  },
  {
   "cell_type": "markdown",
   "id": "adb1eaa1",
   "metadata": {
    "papermill": {
     "duration": 0.015014,
     "end_time": "2021-08-07T03:28:09.904931",
     "exception": false,
     "start_time": "2021-08-07T03:28:09.889917",
     "status": "completed"
    },
    "tags": []
   },
   "source": [
    "When you think you know the expected value per spin, run the code cell below to view the solution and get credit for answering the question."
   ]
  },
  {
   "cell_type": "code",
   "execution_count": 12,
   "id": "3e5707aa",
   "metadata": {
    "execution": {
     "iopub.execute_input": "2021-08-07T03:28:09.942504Z",
     "iopub.status.busy": "2021-08-07T03:28:09.941701Z",
     "iopub.status.idle": "2021-08-07T03:28:09.948082Z",
     "shell.execute_reply": "2021-08-07T03:28:09.947576Z",
     "shell.execute_reply.started": "2021-08-07T03:27:09.428014Z"
    },
    "papermill": {
     "duration": 0.026953,
     "end_time": "2021-08-07T03:28:09.948249",
     "exception": false,
     "start_time": "2021-08-07T03:28:09.921296",
     "status": "completed"
    },
    "tags": []
   },
   "outputs": [
    {
     "data": {
      "application/javascript": [
       "parent.postMessage({\"jupyterEvent\": \"custom.exercise_interaction\", \"data\": {\"interactionType\": 3, \"questionType\": 4, \"questionId\": \"4_ExpectedSlotsPayout\", \"learnToolsVersion\": \"0.3.4\", \"valueTowardsCompletion\": 0.0, \"failureMessage\": \"\", \"exceptionClass\": \"\", \"trace\": \"\", \"outcomeType\": 4}}, \"*\")"
      ],
      "text/plain": [
       "<IPython.core.display.Javascript object>"
      ]
     },
     "metadata": {},
     "output_type": "display_data"
    },
    {
     "data": {
      "text/markdown": [
       "<span style=\"color:#33cc99\">Solution:</span> The exact expected value of one pull of the slot machine is 0.025 - i.e. a little more than 2 cents. See? Not every game in the Python Challenge Casino is rigged against the player!\n",
       "\n",
       "Because of the high variance of the outcome (there are some very rare high payout results that significantly affect the average) you might need to run your function with a very high value of `n_runs` to get a stable answer close to the true expectation.\n",
       "\n",
       "If your answer is way higher than 0.025, then maybe you forgot to account for the $1 cost per play?"
      ],
      "text/plain": [
       "Solution: The exact expected value of one pull of the slot machine is 0.025 - i.e. a little more than 2 cents. See? Not every game in the Python Challenge Casino is rigged against the player!\n",
       "\n",
       "Because of the high variance of the outcome (there are some very rare high payout results that significantly affect the average) you might need to run your function with a very high value of `n_runs` to get a stable answer close to the true expectation.\n",
       "\n",
       "If your answer is way higher than 0.025, then maybe you forgot to account for the $1 cost per play?"
      ]
     },
     "metadata": {},
     "output_type": "display_data"
    }
   ],
   "source": [
    "# Check your answer (Run this code cell to receive credit!)\n",
    "q4.solution()"
   ]
  },
  {
   "cell_type": "markdown",
   "id": "141806df",
   "metadata": {
    "papermill": {
     "duration": 0.015778,
     "end_time": "2021-08-07T03:28:09.979950",
     "exception": false,
     "start_time": "2021-08-07T03:28:09.964172",
     "status": "completed"
    },
    "tags": []
   },
   "source": [
    "# Keep Going\n",
    "\n",
    "Many programmers report that dictionaries are their favorite data structure. You'll get to **[learn about them](https://www.kaggle.com/colinmorris/strings-and-dictionaries)** (as well as strings) in the next lesson."
   ]
  },
  {
   "cell_type": "markdown",
   "id": "c1511416",
   "metadata": {
    "papermill": {
     "duration": 0.015704,
     "end_time": "2021-08-07T03:28:10.011534",
     "exception": false,
     "start_time": "2021-08-07T03:28:09.995830",
     "status": "completed"
    },
    "tags": []
   },
   "source": [
    "---\n",
    "\n",
    "\n",
    "\n",
    "\n",
    "*Have questions or comments? Visit the [Learn Discussion forum](https://www.kaggle.com/learn-forum/161283) to chat with other Learners.*"
   ]
  }
 ],
 "metadata": {
  "kernelspec": {
   "display_name": "Python 3",
   "language": "python",
   "name": "python3"
  },
  "language_info": {
   "codemirror_mode": {
    "name": "ipython",
    "version": 3
   },
   "file_extension": ".py",
   "mimetype": "text/x-python",
   "name": "python",
   "nbconvert_exporter": "python",
   "pygments_lexer": "ipython3",
   "version": "3.7.10"
  },
  "papermill": {
   "default_parameters": {},
   "duration": 9.799615,
   "end_time": "2021-08-07T03:28:11.700239",
   "environment_variables": {},
   "exception": null,
   "input_path": "__notebook__.ipynb",
   "output_path": "__notebook__.ipynb",
   "parameters": {},
   "start_time": "2021-08-07T03:28:01.900624",
   "version": "2.3.3"
  }
 },
 "nbformat": 4,
 "nbformat_minor": 5
}
