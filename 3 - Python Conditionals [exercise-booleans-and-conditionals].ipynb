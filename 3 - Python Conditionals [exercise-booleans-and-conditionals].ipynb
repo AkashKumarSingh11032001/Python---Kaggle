{
 "cells": [
  {
   "cell_type": "markdown",
   "id": "f4841674",
   "metadata": {
    "papermill": {
     "duration": 0.030589,
     "end_time": "2021-08-05T05:37:49.065259",
     "exception": false,
     "start_time": "2021-08-05T05:37:49.034670",
     "status": "completed"
    },
    "tags": []
   },
   "source": [
    "**This notebook is an exercise in the [Python](https://www.kaggle.com/learn/python) course.  You can reference the tutorial at [this link](https://www.kaggle.com/colinmorris/booleans-and-conditionals).**\n",
    "\n",
    "---\n"
   ]
  },
  {
   "cell_type": "markdown",
   "id": "8a5110e8",
   "metadata": {
    "papermill": {
     "duration": 0.028618,
     "end_time": "2021-08-05T05:37:49.126099",
     "exception": false,
     "start_time": "2021-08-05T05:37:49.097481",
     "status": "completed"
    },
    "tags": []
   },
   "source": [
    "In this exercise, you'll put to work what you have learned about booleans and conditionals.\n",
    "\n",
    "To get started, **run the setup code below** before writing your own code (and if you leave this notebook and come back later, don't forget to run the setup code again)."
   ]
  },
  {
   "cell_type": "code",
   "execution_count": 1,
   "id": "3ead0559",
   "metadata": {
    "execution": {
     "iopub.execute_input": "2021-08-05T05:37:49.186514Z",
     "iopub.status.busy": "2021-08-05T05:37:49.185292Z",
     "iopub.status.idle": "2021-08-05T05:37:49.333780Z",
     "shell.execute_reply": "2021-08-05T05:37:49.334402Z",
     "shell.execute_reply.started": "2021-08-05T04:53:19.029331Z"
    },
    "papermill": {
     "duration": 0.1808,
     "end_time": "2021-08-05T05:37:49.334695",
     "exception": false,
     "start_time": "2021-08-05T05:37:49.153895",
     "status": "completed"
    },
    "tags": []
   },
   "outputs": [
    {
     "name": "stdout",
     "output_type": "stream",
     "text": [
      "Setup complete.\n"
     ]
    }
   ],
   "source": [
    "from learntools.core import binder; binder.bind(globals())\n",
    "from learntools.python.ex3 import *\n",
    "print('Setup complete.')"
   ]
  },
  {
   "cell_type": "markdown",
   "id": "2143c04e",
   "metadata": {
    "papermill": {
     "duration": 0.027935,
     "end_time": "2021-08-05T05:37:49.393620",
     "exception": false,
     "start_time": "2021-08-05T05:37:49.365685",
     "status": "completed"
    },
    "tags": []
   },
   "source": [
    "# 1.\n",
    "\n",
    "Many programming languages have [`sign`](https://en.wikipedia.org/wiki/Sign_function) available as a built-in function. Python doesn't, but we can define our own!\n",
    "\n",
    "In the cell below, define a function called `sign` which takes a numerical argument and returns -1 if it's negative, 1 if it's positive, and 0 if it's 0."
   ]
  },
  {
   "cell_type": "code",
   "execution_count": 2,
   "id": "0b8aad04",
   "metadata": {
    "execution": {
     "iopub.execute_input": "2021-08-05T05:37:49.459051Z",
     "iopub.status.busy": "2021-08-05T05:37:49.458291Z",
     "iopub.status.idle": "2021-08-05T05:37:49.463046Z",
     "shell.execute_reply": "2021-08-05T05:37:49.463535Z",
     "shell.execute_reply.started": "2021-08-05T04:55:51.652913Z"
    },
    "papermill": {
     "duration": 0.041828,
     "end_time": "2021-08-05T05:37:49.463695",
     "exception": false,
     "start_time": "2021-08-05T05:37:49.421867",
     "status": "completed"
    },
    "tags": []
   },
   "outputs": [
    {
     "data": {
      "application/javascript": [
       "parent.postMessage({\"jupyterEvent\": \"custom.exercise_interaction\", \"data\": {\"outcomeType\": 1, \"valueTowardsCompletion\": 0.2, \"interactionType\": 1, \"questionType\": 2, \"questionId\": \"1_SignFunctionProblem\", \"learnToolsVersion\": \"0.3.4\", \"failureMessage\": \"\", \"exceptionClass\": \"\", \"trace\": \"\"}}, \"*\")"
      ],
      "text/plain": [
       "<IPython.core.display.Javascript object>"
      ]
     },
     "metadata": {},
     "output_type": "display_data"
    },
    {
     "data": {
      "text/markdown": [
       "<span style=\"color:#33cc33\">Correct</span>"
      ],
      "text/plain": [
       "Correct"
      ]
     },
     "metadata": {},
     "output_type": "display_data"
    }
   ],
   "source": [
    "# Your code goes here. Define a function called 'sign'\n",
    "def sign(num):\n",
    "    if (num > 0):\n",
    "        return 1\n",
    "    elif (num < 0):\n",
    "        return -1\n",
    "    else:\n",
    "        return 0\n",
    "# Check your answer\n",
    "q1.check()"
   ]
  },
  {
   "cell_type": "code",
   "execution_count": 3,
   "id": "5bc52d5d",
   "metadata": {
    "execution": {
     "iopub.execute_input": "2021-08-05T05:37:49.527009Z",
     "iopub.status.busy": "2021-08-05T05:37:49.525996Z",
     "iopub.status.idle": "2021-08-05T05:37:49.531112Z",
     "shell.execute_reply": "2021-08-05T05:37:49.530477Z",
     "shell.execute_reply.started": "2021-08-05T04:57:47.382757Z"
    },
    "papermill": {
     "duration": 0.038148,
     "end_time": "2021-08-05T05:37:49.531259",
     "exception": false,
     "start_time": "2021-08-05T05:37:49.493111",
     "status": "completed"
    },
    "tags": []
   },
   "outputs": [],
   "source": [
    "#q1.solution()"
   ]
  },
  {
   "cell_type": "markdown",
   "id": "dc7036de",
   "metadata": {
    "papermill": {
     "duration": 0.029543,
     "end_time": "2021-08-05T05:37:49.590159",
     "exception": false,
     "start_time": "2021-08-05T05:37:49.560616",
     "status": "completed"
    },
    "tags": []
   },
   "source": [
    "# 2.\n",
    "\n",
    "We've decided to add \"logging\" to our `to_smash` function from the previous exercise."
   ]
  },
  {
   "cell_type": "code",
   "execution_count": 4,
   "id": "89cea615",
   "metadata": {
    "execution": {
     "iopub.execute_input": "2021-08-05T05:37:49.663108Z",
     "iopub.status.busy": "2021-08-05T05:37:49.662111Z",
     "iopub.status.idle": "2021-08-05T05:37:49.672100Z",
     "shell.execute_reply": "2021-08-05T05:37:49.673279Z",
     "shell.execute_reply.started": "2021-08-05T04:56:54.951864Z"
    },
    "papermill": {
     "duration": 0.054359,
     "end_time": "2021-08-05T05:37:49.673525",
     "exception": false,
     "start_time": "2021-08-05T05:37:49.619166",
     "status": "completed"
    },
    "tags": []
   },
   "outputs": [
    {
     "name": "stdout",
     "output_type": "stream",
     "text": [
      "Splitting 91 candies\n"
     ]
    },
    {
     "data": {
      "text/plain": [
       "1"
      ]
     },
     "execution_count": 4,
     "metadata": {},
     "output_type": "execute_result"
    }
   ],
   "source": [
    "def to_smash(total_candies):\n",
    "    \"\"\"Return the number of leftover candies that must be smashed after distributing\n",
    "    the given number of candies evenly between 3 friends.\n",
    "    \n",
    "    >>> to_smash(91)\n",
    "    1\n",
    "    \"\"\"\n",
    "    print(\"Splitting\", total_candies, \"candies\")\n",
    "    return total_candies % 3\n",
    "\n",
    "to_smash(91)"
   ]
  },
  {
   "cell_type": "markdown",
   "id": "79f3ec45",
   "metadata": {
    "papermill": {
     "duration": 0.037436,
     "end_time": "2021-08-05T05:37:49.754699",
     "exception": false,
     "start_time": "2021-08-05T05:37:49.717263",
     "status": "completed"
    },
    "tags": []
   },
   "source": [
    "What happens if we call it with `total_candies = 1`?"
   ]
  },
  {
   "cell_type": "code",
   "execution_count": 5,
   "id": "f8e55d4b",
   "metadata": {
    "execution": {
     "iopub.execute_input": "2021-08-05T05:37:49.820603Z",
     "iopub.status.busy": "2021-08-05T05:37:49.819591Z",
     "iopub.status.idle": "2021-08-05T05:37:49.823823Z",
     "shell.execute_reply": "2021-08-05T05:37:49.824314Z",
     "shell.execute_reply.started": "2021-08-05T04:57:01.520088Z"
    },
    "papermill": {
     "duration": 0.039915,
     "end_time": "2021-08-05T05:37:49.824480",
     "exception": false,
     "start_time": "2021-08-05T05:37:49.784565",
     "status": "completed"
    },
    "tags": []
   },
   "outputs": [
    {
     "name": "stdout",
     "output_type": "stream",
     "text": [
      "Splitting 1 candies\n"
     ]
    },
    {
     "data": {
      "text/plain": [
       "1"
      ]
     },
     "execution_count": 5,
     "metadata": {},
     "output_type": "execute_result"
    }
   ],
   "source": [
    "to_smash(1)"
   ]
  },
  {
   "cell_type": "markdown",
   "id": "d3770272",
   "metadata": {
    "papermill": {
     "duration": 0.031358,
     "end_time": "2021-08-05T05:37:49.886987",
     "exception": false,
     "start_time": "2021-08-05T05:37:49.855629",
     "status": "completed"
    },
    "tags": []
   },
   "source": [
    "That isn't great grammar!\n",
    "\n",
    "Modify the definition in the cell below to correct the grammar of our print statement. (If there's only one candy, we should use the singular \"candy\" instead of the plural \"candies\")"
   ]
  },
  {
   "cell_type": "code",
   "execution_count": 6,
   "id": "0babfbc4",
   "metadata": {
    "execution": {
     "iopub.execute_input": "2021-08-05T05:37:49.952052Z",
     "iopub.status.busy": "2021-08-05T05:37:49.951232Z",
     "iopub.status.idle": "2021-08-05T05:37:49.962950Z",
     "shell.execute_reply": "2021-08-05T05:37:49.962389Z",
     "shell.execute_reply.started": "2021-08-05T04:58:58.979500Z"
    },
    "papermill": {
     "duration": 0.045543,
     "end_time": "2021-08-05T05:37:49.963116",
     "exception": false,
     "start_time": "2021-08-05T05:37:49.917573",
     "status": "completed"
    },
    "tags": []
   },
   "outputs": [
    {
     "name": "stdout",
     "output_type": "stream",
     "text": [
      "Splitting 91 candies\n",
      "Splitting 1 candy\n"
     ]
    },
    {
     "data": {
      "text/plain": [
       "1"
      ]
     },
     "execution_count": 6,
     "metadata": {},
     "output_type": "execute_result"
    }
   ],
   "source": [
    "def to_smash(total_candies):\n",
    "    \"\"\"Return the number of leftover candies that must be smashed after distributing\n",
    "    the given number of candies evenly between 3 friends.\n",
    "    \n",
    "    >>> to_smash(91)\n",
    "    1\n",
    "    \"\"\"\n",
    "    if total_candies == 1:\n",
    "        print(\"Splitting\", total_candies, \"candy\")\n",
    "    else:\n",
    "        print(\"Splitting\", total_candies, \"candies\")\n",
    "        \n",
    "    return total_candies % 3\n",
    "\n",
    "to_smash(91)\n",
    "to_smash(1)"
   ]
  },
  {
   "cell_type": "markdown",
   "id": "523d191e",
   "metadata": {
    "papermill": {
     "duration": 0.031263,
     "end_time": "2021-08-05T05:37:50.026519",
     "exception": false,
     "start_time": "2021-08-05T05:37:49.995256",
     "status": "completed"
    },
    "tags": []
   },
   "source": [
    "To get credit for completing this problem, and to see the official answer, run the code cell below."
   ]
  },
  {
   "cell_type": "code",
   "execution_count": 7,
   "id": "faae418b",
   "metadata": {
    "execution": {
     "iopub.execute_input": "2021-08-05T05:37:50.095719Z",
     "iopub.status.busy": "2021-08-05T05:37:50.095051Z",
     "iopub.status.idle": "2021-08-05T05:37:50.101101Z",
     "shell.execute_reply": "2021-08-05T05:37:50.100542Z",
     "shell.execute_reply.started": "2021-08-05T04:59:08.274434Z"
    },
    "papermill": {
     "duration": 0.042977,
     "end_time": "2021-08-05T05:37:50.101246",
     "exception": false,
     "start_time": "2021-08-05T05:37:50.058269",
     "status": "completed"
    },
    "tags": []
   },
   "outputs": [
    {
     "data": {
      "application/javascript": [
       "parent.postMessage({\"jupyterEvent\": \"custom.exercise_interaction\", \"data\": {\"interactionType\": 3, \"questionType\": 4, \"questionId\": \"2_PluralizationProblem\", \"learnToolsVersion\": \"0.3.4\", \"valueTowardsCompletion\": 0.0, \"failureMessage\": \"\", \"exceptionClass\": \"\", \"trace\": \"\", \"outcomeType\": 4}}, \"*\")"
      ],
      "text/plain": [
       "<IPython.core.display.Javascript object>"
      ]
     },
     "metadata": {},
     "output_type": "display_data"
    },
    {
     "data": {
      "text/markdown": [
       "<span style=\"color:#33cc99\">Solution:</span> A straightforward (and totally fine) solution is to replace the original `print` call with:\n",
       "\n",
       "```python\n",
       "if total_candies == 1:\n",
       "    print(\"Splitting 1 candy\")\n",
       "else:\n",
       "    print(\"Splitting\", total_candies, \"candies\")\n",
       "```\n",
       "\n",
       "Here's a slightly more succinct solution using a conditional expression:\n",
       "\n",
       "```python\n",
       "print(\"Splitting\", total_candies, \"candy\" if total_candies == 1 else \"candies\")\n",
       "```"
      ],
      "text/plain": [
       "Solution: A straightforward (and totally fine) solution is to replace the original `print` call with:\n",
       "\n",
       "```python\n",
       "if total_candies == 1:\n",
       "    print(\"Splitting 1 candy\")\n",
       "else:\n",
       "    print(\"Splitting\", total_candies, \"candies\")\n",
       "```\n",
       "\n",
       "Here's a slightly more succinct solution using a conditional expression:\n",
       "\n",
       "```python\n",
       "print(\"Splitting\", total_candies, \"candy\" if total_candies == 1 else \"candies\")\n",
       "```"
      ]
     },
     "metadata": {},
     "output_type": "display_data"
    }
   ],
   "source": [
    "# Check your answer (Run this code cell to receive credit!)\n",
    "q2.solution()"
   ]
  },
  {
   "cell_type": "markdown",
   "id": "f5b60906",
   "metadata": {
    "papermill": {
     "duration": 0.031925,
     "end_time": "2021-08-05T05:37:50.165380",
     "exception": false,
     "start_time": "2021-08-05T05:37:50.133455",
     "status": "completed"
    },
    "tags": []
   },
   "source": [
    "# 3. <span title=\"A bit spicy\" style=\"color: darkgreen \">🌶️</span>\n",
    "\n",
    "In the tutorial, we talked about deciding whether we're prepared for the weather. I said that I'm safe from today's weather if...\n",
    "- I have an umbrella...\n",
    "- or if the rain isn't too heavy and I have a hood...\n",
    "- otherwise, I'm still fine unless it's raining *and* it's a workday\n",
    "\n",
    "The function below uses our first attempt at turning this logic into a Python expression. I claimed that there was a bug in that code. Can you find it?\n",
    "\n",
    "To prove that `prepared_for_weather` is buggy, come up with a set of inputs where either:\n",
    "- the function returns `False` (but should have returned `True`), or\n",
    "- the function returned `True` (but should have returned `False`).\n",
    "\n",
    "To get credit for completing this question, your code should return a <font color='#33cc33'>Correct</font> result."
   ]
  },
  {
   "cell_type": "code",
   "execution_count": 8,
   "id": "3451bd18",
   "metadata": {
    "execution": {
     "iopub.execute_input": "2021-08-05T05:37:50.237008Z",
     "iopub.status.busy": "2021-08-05T05:37:50.236250Z",
     "iopub.status.idle": "2021-08-05T05:37:50.242877Z",
     "shell.execute_reply": "2021-08-05T05:37:50.242349Z",
     "shell.execute_reply.started": "2021-08-05T05:07:19.513476Z"
    },
    "papermill": {
     "duration": 0.045627,
     "end_time": "2021-08-05T05:37:50.243029",
     "exception": false,
     "start_time": "2021-08-05T05:37:50.197402",
     "status": "completed"
    },
    "tags": []
   },
   "outputs": [
    {
     "name": "stdout",
     "output_type": "stream",
     "text": [
      "False\n"
     ]
    },
    {
     "data": {
      "application/javascript": [
       "parent.postMessage({\"jupyterEvent\": \"custom.exercise_interaction\", \"data\": {\"outcomeType\": 1, \"valueTowardsCompletion\": 0.2, \"interactionType\": 1, \"questionType\": 1, \"questionId\": \"3_WeatherDebug\", \"learnToolsVersion\": \"0.3.4\", \"failureMessage\": \"\", \"exceptionClass\": \"\", \"trace\": \"\"}}, \"*\")"
      ],
      "text/plain": [
       "<IPython.core.display.Javascript object>"
      ]
     },
     "metadata": {},
     "output_type": "display_data"
    },
    {
     "data": {
      "text/markdown": [
       "<span style=\"color:#33cc33\">Correct:</span> \n",
       "\n",
       "One example of a failing test case is:\n",
       "\n",
       "```python\n",
       "have_umbrella = False\n",
       "rain_level = 0.0\n",
       "have_hood = False\n",
       "is_workday = False\n",
       "```\n",
       "\n",
       "Clearly we're prepared for the weather in this case. It's not raining. Not only that, it's not a workday, so we don't even need to leave the house! But our function will return False on these inputs.\n",
       "\n",
       "The key problem is that Python implictly parenthesizes the last part as:\n",
       "\n",
       "```python\n",
       "(not (rain_level > 0)) and is_workday\n",
       "```\n",
       "\n",
       "Whereas what we were trying to express would look more like:\n",
       "\n",
       "```python\n",
       "not (rain_level > 0 and is_workday)\n",
       "```\n"
      ],
      "text/plain": [
       "Correct: \n",
       "\n",
       "One example of a failing test case is:\n",
       "\n",
       "```python\n",
       "have_umbrella = False\n",
       "rain_level = 0.0\n",
       "have_hood = False\n",
       "is_workday = False\n",
       "```\n",
       "\n",
       "Clearly we're prepared for the weather in this case. It's not raining. Not only that, it's not a workday, so we don't even need to leave the house! But our function will return False on these inputs.\n",
       "\n",
       "The key problem is that Python implictly parenthesizes the last part as:\n",
       "\n",
       "```python\n",
       "(not (rain_level > 0)) and is_workday\n",
       "```\n",
       "\n",
       "Whereas what we were trying to express would look more like:\n",
       "\n",
       "```python\n",
       "not (rain_level > 0 and is_workday)\n",
       "```"
      ]
     },
     "metadata": {},
     "output_type": "display_data"
    }
   ],
   "source": [
    "def prepared_for_weather(have_umbrella, rain_level, have_hood, is_workday):\n",
    "    # Don't change this code. Our goal is just to find the bug, not fix it!\n",
    "    return have_umbrella or rain_level < 5 and have_hood or not rain_level > 0 and is_workday\n",
    "\n",
    "# Change the values of these inputs so they represent a case where prepared_for_weather\n",
    "# returns the wrong answer.\n",
    "have_umbrella = False\n",
    "rain_level = 0.0\n",
    "have_hood = False\n",
    "is_workday = False\n",
    "\n",
    "# Check what the function returns given the current values of the variables above\n",
    "actual = prepared_for_weather(have_umbrella, rain_level, have_hood, is_workday)\n",
    "print(actual)\n",
    "\n",
    "# Check your answer\n",
    "q3.check()"
   ]
  },
  {
   "cell_type": "code",
   "execution_count": 9,
   "id": "c54d8f32",
   "metadata": {
    "execution": {
     "iopub.execute_input": "2021-08-05T05:37:50.316017Z",
     "iopub.status.busy": "2021-08-05T05:37:50.315224Z",
     "iopub.status.idle": "2021-08-05T05:37:50.318316Z",
     "shell.execute_reply": "2021-08-05T05:37:50.317740Z",
     "shell.execute_reply.started": "2021-08-05T05:07:21.175313Z"
    },
    "papermill": {
     "duration": 0.041582,
     "end_time": "2021-08-05T05:37:50.318454",
     "exception": false,
     "start_time": "2021-08-05T05:37:50.276872",
     "status": "completed"
    },
    "tags": []
   },
   "outputs": [],
   "source": [
    "#q3.hint()\n",
    "#q3.solution()"
   ]
  },
  {
   "cell_type": "markdown",
   "id": "bc710157",
   "metadata": {
    "papermill": {
     "duration": 0.033267,
     "end_time": "2021-08-05T05:37:50.385988",
     "exception": false,
     "start_time": "2021-08-05T05:37:50.352721",
     "status": "completed"
    },
    "tags": []
   },
   "source": [
    "# 4.\n",
    "\n",
    "The function `is_negative` below is implemented correctly - it returns True if the given number is negative and False otherwise.\n",
    "\n",
    "However, it's more verbose than it needs to be. We can actually reduce the number of lines of code in this function by *75%* while keeping the same behaviour. \n",
    "\n",
    "See if you can come up with an equivalent body that uses just **one line** of code, and put it in the function `concise_is_negative`. (HINT: you don't even need Python's ternary syntax)"
   ]
  },
  {
   "cell_type": "code",
   "execution_count": 10,
   "id": "4eeb4abb",
   "metadata": {
    "execution": {
     "iopub.execute_input": "2021-08-05T05:37:50.461200Z",
     "iopub.status.busy": "2021-08-05T05:37:50.460424Z",
     "iopub.status.idle": "2021-08-05T05:37:50.467661Z",
     "shell.execute_reply": "2021-08-05T05:37:50.467024Z",
     "shell.execute_reply.started": "2021-08-05T05:09:52.761063Z"
    },
    "papermill": {
     "duration": 0.047987,
     "end_time": "2021-08-05T05:37:50.467798",
     "exception": false,
     "start_time": "2021-08-05T05:37:50.419811",
     "status": "completed"
    },
    "tags": []
   },
   "outputs": [
    {
     "data": {
      "application/javascript": [
       "parent.postMessage({\"jupyterEvent\": \"custom.exercise_interaction\", \"data\": {\"outcomeType\": 1, \"valueTowardsCompletion\": 0.2, \"interactionType\": 1, \"questionType\": 2, \"questionId\": \"4_ConciseIsNegative\", \"learnToolsVersion\": \"0.3.4\", \"failureMessage\": \"\", \"exceptionClass\": \"\", \"trace\": \"\"}}, \"*\")"
      ],
      "text/plain": [
       "<IPython.core.display.Javascript object>"
      ]
     },
     "metadata": {},
     "output_type": "display_data"
    },
    {
     "data": {
      "text/markdown": [
       "<span style=\"color:#33cc33\">Correct</span>"
      ],
      "text/plain": [
       "Correct"
      ]
     },
     "metadata": {},
     "output_type": "display_data"
    }
   ],
   "source": [
    "def is_negative(number):\n",
    "    if number < 0:\n",
    "        return True\n",
    "    else:\n",
    "        return False\n",
    "\n",
    "def concise_is_negative(number):\n",
    "    return (True if number < 0 else False) # Your code goes here (try to keep it to one line!)\n",
    "\n",
    "# Check your answer\n",
    "q4.check()"
   ]
  },
  {
   "cell_type": "code",
   "execution_count": 11,
   "id": "6ff2d351",
   "metadata": {
    "execution": {
     "iopub.execute_input": "2021-08-05T05:37:50.541407Z",
     "iopub.status.busy": "2021-08-05T05:37:50.540608Z",
     "iopub.status.idle": "2021-08-05T05:37:50.543830Z",
     "shell.execute_reply": "2021-08-05T05:37:50.543288Z"
    },
    "papermill": {
     "duration": 0.041435,
     "end_time": "2021-08-05T05:37:50.543984",
     "exception": false,
     "start_time": "2021-08-05T05:37:50.502549",
     "status": "completed"
    },
    "tags": []
   },
   "outputs": [],
   "source": [
    "#q4.hint()\n",
    "#q4.solution()"
   ]
  },
  {
   "cell_type": "markdown",
   "id": "e67daee2",
   "metadata": {
    "papermill": {
     "duration": 0.034325,
     "end_time": "2021-08-05T05:37:50.614107",
     "exception": false,
     "start_time": "2021-08-05T05:37:50.579782",
     "status": "completed"
    },
    "tags": []
   },
   "source": [
    "# 5a.\n",
    "\n",
    "The boolean variables `ketchup`, `mustard` and `onion` represent whether a customer wants a particular topping on their hot dog. We want to implement a number of boolean functions that correspond to some yes-or-no questions about the customer's order. For example:"
   ]
  },
  {
   "cell_type": "code",
   "execution_count": 12,
   "id": "ca3f38b5",
   "metadata": {
    "execution": {
     "iopub.execute_input": "2021-08-05T05:37:50.690153Z",
     "iopub.status.busy": "2021-08-05T05:37:50.689467Z",
     "iopub.status.idle": "2021-08-05T05:37:50.692918Z",
     "shell.execute_reply": "2021-08-05T05:37:50.692312Z"
    },
    "papermill": {
     "duration": 0.043732,
     "end_time": "2021-08-05T05:37:50.693078",
     "exception": false,
     "start_time": "2021-08-05T05:37:50.649346",
     "status": "completed"
    },
    "tags": []
   },
   "outputs": [],
   "source": [
    "def onionless(ketchup, mustard, onion):\n",
    "    \"\"\"Return whether the customer doesn't want onions.\n",
    "    \"\"\"\n",
    "    return not onion"
   ]
  },
  {
   "cell_type": "code",
   "execution_count": 13,
   "id": "ff7a8f7b",
   "metadata": {
    "execution": {
     "iopub.execute_input": "2021-08-05T05:37:50.769249Z",
     "iopub.status.busy": "2021-08-05T05:37:50.768244Z",
     "iopub.status.idle": "2021-08-05T05:37:50.774628Z",
     "shell.execute_reply": "2021-08-05T05:37:50.773951Z",
     "shell.execute_reply.started": "2021-08-05T05:11:20.604295Z"
    },
    "papermill": {
     "duration": 0.046974,
     "end_time": "2021-08-05T05:37:50.774770",
     "exception": false,
     "start_time": "2021-08-05T05:37:50.727796",
     "status": "completed"
    },
    "tags": []
   },
   "outputs": [
    {
     "data": {
      "application/javascript": [
       "parent.postMessage({\"jupyterEvent\": \"custom.exercise_interaction\", \"data\": {\"outcomeType\": 1, \"valueTowardsCompletion\": 0.2, \"interactionType\": 1, \"questionType\": 2, \"questionId\": \"5.1_AllToppings\", \"learnToolsVersion\": \"0.3.4\", \"failureMessage\": \"\", \"exceptionClass\": \"\", \"trace\": \"\"}}, \"*\")"
      ],
      "text/plain": [
       "<IPython.core.display.Javascript object>"
      ]
     },
     "metadata": {},
     "output_type": "display_data"
    },
    {
     "data": {
      "text/markdown": [
       "<span style=\"color:#33cc33\">Correct</span>"
      ],
      "text/plain": [
       "Correct"
      ]
     },
     "metadata": {},
     "output_type": "display_data"
    }
   ],
   "source": [
    "def wants_all_toppings(ketchup, mustard, onion):\n",
    "    \"\"\"Return whether the customer wants \"the works\" (all 3 toppings)\n",
    "    \"\"\"\n",
    "    return ketchup and mustard and onion\n",
    "\n",
    "# Check your answer\n",
    "q5.a.check()"
   ]
  },
  {
   "cell_type": "code",
   "execution_count": 14,
   "id": "89201366",
   "metadata": {
    "execution": {
     "iopub.execute_input": "2021-08-05T05:37:50.851613Z",
     "iopub.status.busy": "2021-08-05T05:37:50.850946Z",
     "iopub.status.idle": "2021-08-05T05:37:50.854013Z",
     "shell.execute_reply": "2021-08-05T05:37:50.853460Z"
    },
    "papermill": {
     "duration": 0.043336,
     "end_time": "2021-08-05T05:37:50.854156",
     "exception": false,
     "start_time": "2021-08-05T05:37:50.810820",
     "status": "completed"
    },
    "tags": []
   },
   "outputs": [],
   "source": [
    "#q5.a.hint()\n",
    "#q5.a.solution()"
   ]
  },
  {
   "cell_type": "markdown",
   "id": "3b81bd27",
   "metadata": {
    "papermill": {
     "duration": 0.035556,
     "end_time": "2021-08-05T05:37:50.926226",
     "exception": false,
     "start_time": "2021-08-05T05:37:50.890670",
     "status": "completed"
    },
    "tags": []
   },
   "source": [
    "# 5b.\n",
    "\n",
    "For the next function, fill in the body to match the English description in the docstring. "
   ]
  },
  {
   "cell_type": "code",
   "execution_count": 15,
   "id": "b0707d37",
   "metadata": {
    "execution": {
     "iopub.execute_input": "2021-08-05T05:37:51.004858Z",
     "iopub.status.busy": "2021-08-05T05:37:51.004085Z",
     "iopub.status.idle": "2021-08-05T05:37:51.010976Z",
     "shell.execute_reply": "2021-08-05T05:37:51.010337Z",
     "shell.execute_reply.started": "2021-08-05T05:14:01.944704Z"
    },
    "papermill": {
     "duration": 0.04879,
     "end_time": "2021-08-05T05:37:51.011114",
     "exception": false,
     "start_time": "2021-08-05T05:37:50.962324",
     "status": "completed"
    },
    "tags": []
   },
   "outputs": [
    {
     "data": {
      "application/javascript": [
       "parent.postMessage({\"jupyterEvent\": \"custom.exercise_interaction\", \"data\": {\"outcomeType\": 1, \"valueTowardsCompletion\": 0.2, \"interactionType\": 1, \"questionType\": 2, \"questionId\": \"5.2_PlainDog\", \"learnToolsVersion\": \"0.3.4\", \"failureMessage\": \"\", \"exceptionClass\": \"\", \"trace\": \"\"}}, \"*\")"
      ],
      "text/plain": [
       "<IPython.core.display.Javascript object>"
      ]
     },
     "metadata": {},
     "output_type": "display_data"
    },
    {
     "data": {
      "text/markdown": [
       "<span style=\"color:#33cc33\">Correct:</span> \n",
       "\n",
       "One solution looks like:\n",
       "```python\n",
       "return not ketchup and not mustard and not onion\n",
       "```\n",
       "\n",
       "We can also [\"factor out\" the nots](https://en.wikipedia.org/wiki/De_Morgan%27s_laws) to get:\n",
       "\n",
       "```python\n",
       "return not (ketchup or mustard or onion)\n",
       "```"
      ],
      "text/plain": [
       "Correct: \n",
       "\n",
       "One solution looks like:\n",
       "```python\n",
       "return not ketchup and not mustard and not onion\n",
       "```\n",
       "\n",
       "We can also [\"factor out\" the nots](https://en.wikipedia.org/wiki/De_Morgan%27s_laws) to get:\n",
       "\n",
       "```python\n",
       "return not (ketchup or mustard or onion)\n",
       "```"
      ]
     },
     "metadata": {},
     "output_type": "display_data"
    }
   ],
   "source": [
    "def wants_plain_hotdog(ketchup, mustard, onion):\n",
    "    \"\"\"Return whether the customer wants a plain hot dog with no toppings.\n",
    "    \"\"\"\n",
    "    return not(ketchup or mustard or onion)\n",
    "\n",
    "# Check your answer\n",
    "q5.b.check()"
   ]
  },
  {
   "cell_type": "code",
   "execution_count": 16,
   "id": "b21a7e12",
   "metadata": {
    "execution": {
     "iopub.execute_input": "2021-08-05T05:37:51.089543Z",
     "iopub.status.busy": "2021-08-05T05:37:51.088807Z",
     "iopub.status.idle": "2021-08-05T05:37:51.092340Z",
     "shell.execute_reply": "2021-08-05T05:37:51.091699Z"
    },
    "papermill": {
     "duration": 0.044407,
     "end_time": "2021-08-05T05:37:51.092478",
     "exception": false,
     "start_time": "2021-08-05T05:37:51.048071",
     "status": "completed"
    },
    "tags": []
   },
   "outputs": [],
   "source": [
    "#q5.b.hint()\n",
    "#q5.b.solution()"
   ]
  },
  {
   "cell_type": "markdown",
   "id": "0e2ffa03",
   "metadata": {
    "papermill": {
     "duration": 0.037013,
     "end_time": "2021-08-05T05:37:51.168627",
     "exception": false,
     "start_time": "2021-08-05T05:37:51.131614",
     "status": "completed"
    },
    "tags": []
   },
   "source": [
    "# 5c.\n",
    "\n",
    "You know what to do: for the next function, fill in the body to match the English description in the docstring."
   ]
  },
  {
   "cell_type": "code",
   "execution_count": 17,
   "id": "961efe83",
   "metadata": {
    "execution": {
     "iopub.execute_input": "2021-08-05T05:37:51.250078Z",
     "iopub.status.busy": "2021-08-05T05:37:51.249055Z",
     "iopub.status.idle": "2021-08-05T05:37:51.255015Z",
     "shell.execute_reply": "2021-08-05T05:37:51.254395Z",
     "shell.execute_reply.started": "2021-08-05T05:15:31.907968Z"
    },
    "papermill": {
     "duration": 0.049414,
     "end_time": "2021-08-05T05:37:51.255155",
     "exception": false,
     "start_time": "2021-08-05T05:37:51.205741",
     "status": "completed"
    },
    "tags": []
   },
   "outputs": [
    {
     "data": {
      "application/javascript": [
       "parent.postMessage({\"jupyterEvent\": \"custom.exercise_interaction\", \"data\": {\"outcomeType\": 1, \"valueTowardsCompletion\": 0.2, \"interactionType\": 1, \"questionType\": 2, \"questionId\": \"5.3_OneSauce\", \"learnToolsVersion\": \"0.3.4\", \"failureMessage\": \"\", \"exceptionClass\": \"\", \"trace\": \"\"}}, \"*\")"
      ],
      "text/plain": [
       "<IPython.core.display.Javascript object>"
      ]
     },
     "metadata": {},
     "output_type": "display_data"
    },
    {
     "data": {
      "text/markdown": [
       "<span style=\"color:#33cc33\">Correct</span>"
      ],
      "text/plain": [
       "Correct"
      ]
     },
     "metadata": {},
     "output_type": "display_data"
    }
   ],
   "source": [
    "def exactly_one_sauce(ketchup, mustard, onion):\n",
    "    \"\"\"Return whether the customer wants either ketchup or mustard, but not both.\n",
    "    (You may be familiar with this operation under the name \"exclusive or\")\n",
    "    \"\"\"\n",
    "    return (ketchup and not mustard) or (not ketchup and mustard)\n",
    "\n",
    "# Check your answer\n",
    "q5.c.check()"
   ]
  },
  {
   "cell_type": "code",
   "execution_count": 18,
   "id": "6e914ff4",
   "metadata": {
    "execution": {
     "iopub.execute_input": "2021-08-05T05:37:51.336606Z",
     "iopub.status.busy": "2021-08-05T05:37:51.335823Z",
     "iopub.status.idle": "2021-08-05T05:37:51.338729Z",
     "shell.execute_reply": "2021-08-05T05:37:51.338202Z"
    },
    "papermill": {
     "duration": 0.044965,
     "end_time": "2021-08-05T05:37:51.338871",
     "exception": false,
     "start_time": "2021-08-05T05:37:51.293906",
     "status": "completed"
    },
    "tags": []
   },
   "outputs": [],
   "source": [
    "#q5.c.hint()\n",
    "#q5.c.solution()"
   ]
  },
  {
   "cell_type": "markdown",
   "id": "fdd70cfe",
   "metadata": {
    "papermill": {
     "duration": 0.039315,
     "end_time": "2021-08-05T05:37:51.416992",
     "exception": false,
     "start_time": "2021-08-05T05:37:51.377677",
     "status": "completed"
    },
    "tags": []
   },
   "source": [
    "# 6. <span title=\"A bit spicy\" style=\"color: darkgreen \">🌶️</span>\n",
    "\n",
    "We’ve seen that calling `bool()` on an integer returns `False` if it’s equal to 0 and `True` otherwise. What happens if we call `int()` on a bool? Try it out in the notebook cell below.\n",
    "\n",
    "Can you take advantage of this to write a succinct function that corresponds to the English sentence \"does the customer want exactly one topping?\"?"
   ]
  },
  {
   "cell_type": "code",
   "execution_count": 19,
   "id": "f9d2f638",
   "metadata": {
    "execution": {
     "iopub.execute_input": "2021-08-05T05:37:51.501403Z",
     "iopub.status.busy": "2021-08-05T05:37:51.500670Z",
     "iopub.status.idle": "2021-08-05T05:37:51.507039Z",
     "shell.execute_reply": "2021-08-05T05:37:51.506388Z",
     "shell.execute_reply.started": "2021-08-05T05:20:36.713433Z"
    },
    "papermill": {
     "duration": 0.051446,
     "end_time": "2021-08-05T05:37:51.507186",
     "exception": false,
     "start_time": "2021-08-05T05:37:51.455740",
     "status": "completed"
    },
    "tags": []
   },
   "outputs": [
    {
     "data": {
      "application/javascript": [
       "parent.postMessage({\"jupyterEvent\": \"custom.exercise_interaction\", \"data\": {\"outcomeType\": 1, \"valueTowardsCompletion\": 0.2, \"interactionType\": 1, \"questionType\": 2, \"questionId\": \"6_OneTopping\", \"learnToolsVersion\": \"0.3.4\", \"failureMessage\": \"\", \"exceptionClass\": \"\", \"trace\": \"\"}}, \"*\")"
      ],
      "text/plain": [
       "<IPython.core.display.Javascript object>"
      ]
     },
     "metadata": {},
     "output_type": "display_data"
    },
    {
     "data": {
      "text/markdown": [
       "<span style=\"color:#33cc33\">Correct:</span> \n",
       "\n",
       "This condition would be pretty complicated to express using just `and`, `or` and `not`, but using boolean-to-integer conversion gives us this short solution:\n",
       "```python\n",
       "return (int(ketchup) + int(mustard) + int(onion)) == 1\n",
       "```\n",
       "\n",
       "Fun fact: we don't technically need to call `int` on the arguments. Just by doing addition with booleans, Python implicitly does the integer conversion. So we could also write...\n",
       "\n",
       "```python\n",
       "return (ketchup + mustard + onion) == 1\n",
       "```"
      ],
      "text/plain": [
       "Correct: \n",
       "\n",
       "This condition would be pretty complicated to express using just `and`, `or` and `not`, but using boolean-to-integer conversion gives us this short solution:\n",
       "```python\n",
       "return (int(ketchup) + int(mustard) + int(onion)) == 1\n",
       "```\n",
       "\n",
       "Fun fact: we don't technically need to call `int` on the arguments. Just by doing addition with booleans, Python implicitly does the integer conversion. So we could also write...\n",
       "\n",
       "```python\n",
       "return (ketchup + mustard + onion) == 1\n",
       "```"
      ]
     },
     "metadata": {},
     "output_type": "display_data"
    }
   ],
   "source": [
    "def exactly_one_topping(ketchup, mustard, onion):\n",
    "    \"\"\"Return whether the customer wants exactly one of the three available toppings\n",
    "    on their hot dog.\n",
    "    \"\"\"\n",
    "    return (ketchup and not mustard and not onion) or (not ketchup and mustard and not onion) or (not ketchup and not mustard and onion)\n",
    "\n",
    "# Check your answer\n",
    "q6.check()"
   ]
  },
  {
   "cell_type": "code",
   "execution_count": 20,
   "id": "4c7c35bf",
   "metadata": {
    "execution": {
     "iopub.execute_input": "2021-08-05T05:37:51.592218Z",
     "iopub.status.busy": "2021-08-05T05:37:51.591542Z",
     "iopub.status.idle": "2021-08-05T05:37:51.594719Z",
     "shell.execute_reply": "2021-08-05T05:37:51.594117Z"
    },
    "papermill": {
     "duration": 0.04738,
     "end_time": "2021-08-05T05:37:51.594865",
     "exception": false,
     "start_time": "2021-08-05T05:37:51.547485",
     "status": "completed"
    },
    "tags": []
   },
   "outputs": [],
   "source": [
    "#q6.hint()\n",
    "#q6.solution()"
   ]
  },
  {
   "cell_type": "markdown",
   "id": "79ec220f",
   "metadata": {
    "papermill": {
     "duration": 0.039655,
     "end_time": "2021-08-05T05:37:51.676107",
     "exception": false,
     "start_time": "2021-08-05T05:37:51.636452",
     "status": "completed"
    },
    "tags": []
   },
   "source": [
    "# 7. <span title=\"A bit spicy\" style=\"color: darkgreen \">🌶️</span> (Optional)\n",
    "\n",
    "In this problem we'll be working with a simplified version of [blackjack](https://en.wikipedia.org/wiki/Blackjack) (aka twenty-one). In this version there is one player (who you'll control) and a dealer. Play proceeds as follows:\n",
    "\n",
    "- The player is dealt two face-up cards. The dealer is dealt one face-up card.\n",
    "- The player may ask to be dealt another card ('hit') as many times as they wish. If the sum of their cards exceeds 21, they lose the round immediately.\n",
    "- The dealer then deals additional cards to himself until either:\n",
    "    - the sum of the dealer's cards exceeds 21, in which case the player wins the round\n",
    "    - the sum of the dealer's cards is greater than or equal to 17. If the player's total is greater than the dealer's, the player wins. Otherwise, the dealer wins (even in case of a tie).\n",
    "    \n",
    "When calculating the sum of cards, Jack, Queen, and King count for 10. Aces can count as 1 or 11 (when referring to a player's \"total\" above, we mean the largest total that can be made without exceeding 21. So e.g. A+8 = 19, A+8+8 = 17)\n",
    "\n",
    "For this problem, you'll write a function representing the player's decision-making strategy in this game. We've provided a very unintelligent implementation below:"
   ]
  },
  {
   "cell_type": "code",
   "execution_count": 21,
   "id": "653e8ff2",
   "metadata": {
    "execution": {
     "iopub.execute_input": "2021-08-05T05:37:51.765353Z",
     "iopub.status.busy": "2021-08-05T05:37:51.764574Z",
     "iopub.status.idle": "2021-08-05T05:37:51.767889Z",
     "shell.execute_reply": "2021-08-05T05:37:51.767237Z",
     "shell.execute_reply.started": "2021-08-05T05:36:47.392074Z"
    },
    "papermill": {
     "duration": 0.051456,
     "end_time": "2021-08-05T05:37:51.768050",
     "exception": false,
     "start_time": "2021-08-05T05:37:51.716594",
     "status": "completed"
    },
    "tags": []
   },
   "outputs": [],
   "source": [
    "def should_hit(dealer_total, player_total, player_low_aces, player_high_aces):\n",
    "    \"\"\"Return True if the player should hit (request another card) given the current game\n",
    "    state, or False if the player should stay.\n",
    "    When calculating a hand's total value, we count aces as \"high\" (with value 11) if doing so\n",
    "    doesn't bring the total above 21, otherwise we count them as low (with value 1). \n",
    "    For example, if the player's hand is {A, A, A, 7}, we will count it as 11 + 1 + 1 + 7,\n",
    "    and therefore set player_total=20, player_low_aces=2, player_high_aces=1.\n",
    "    \"\"\"\n",
    "    \n",
    "    if player_total <= 11:\n",
    "        return True\n",
    "    if player_total == 12 and (dealer_total >= 4 and dealer_total <= 6):\n",
    "        return False\n",
    "    if player_total == 12 and not (dealer_total >= 4 and dealer_total <= 6):\n",
    "        return True\n",
    "    if (player_total >= 13 and player_total <= 16) and (dealer_total >= 2 and dealer_total <= 6):\n",
    "        return False\n",
    "    if (player_total >= 13 and player_total <= 16) and not (dealer_total >= 2 and dealer_total <= 6):\n",
    "        return True\n",
    "    if player_total < 17:\n",
    "        return True\n",
    "    if player_total == 17: \n",
    "        return False\n",
    "    else:\n",
    "        return False"
   ]
  },
  {
   "cell_type": "markdown",
   "id": "f2f5da56",
   "metadata": {
    "papermill": {
     "duration": 0.040848,
     "end_time": "2021-08-05T05:37:51.850342",
     "exception": false,
     "start_time": "2021-08-05T05:37:51.809494",
     "status": "completed"
    },
    "tags": []
   },
   "source": [
    "This very conservative agent *always* sticks with the hand of two cards that they're dealt.\n",
    "\n",
    "We'll be simulating games between your player agent and our own dealer agent by calling your function.\n",
    "\n",
    "Try running the function below to see an example of a simulated game:"
   ]
  },
  {
   "cell_type": "code",
   "execution_count": 22,
   "id": "27ebc627",
   "metadata": {
    "execution": {
     "iopub.execute_input": "2021-08-05T05:37:51.940483Z",
     "iopub.status.busy": "2021-08-05T05:37:51.939520Z",
     "iopub.status.idle": "2021-08-05T05:37:51.943090Z",
     "shell.execute_reply": "2021-08-05T05:37:51.943592Z",
     "shell.execute_reply.started": "2021-08-05T05:36:50.887661Z"
    },
    "papermill": {
     "duration": 0.048649,
     "end_time": "2021-08-05T05:37:51.943760",
     "exception": false,
     "start_time": "2021-08-05T05:37:51.895111",
     "status": "completed"
    },
    "tags": []
   },
   "outputs": [
    {
     "name": "stdout",
     "output_type": "stream",
     "text": [
      "Player starts with 8 and 3 (total = 11)\n",
      "Dealer starts with 2\n",
      "\n",
      "__Player's turn__\n",
      "Player hits and receives 3. (total = 14)\n",
      "Player stays\n",
      "\n",
      "__Dealer's turn__\n",
      "Dealer hits and receives Q. (total = 12)\n",
      "Dealer hits and receives 3. (total = 15)\n",
      "Dealer hits and receives 9. (total = 24)\n",
      "Dealer busts! Player wins.\n"
     ]
    }
   ],
   "source": [
    "q7.simulate_one_game()"
   ]
  },
  {
   "cell_type": "markdown",
   "id": "8f59d753",
   "metadata": {
    "papermill": {
     "duration": 0.040509,
     "end_time": "2021-08-05T05:37:52.024150",
     "exception": false,
     "start_time": "2021-08-05T05:37:51.983641",
     "status": "completed"
    },
    "tags": []
   },
   "source": [
    "The real test of your agent's mettle is their average win rate over many games. Try calling the function below to simulate 50000 games of blackjack (it may take a couple seconds):"
   ]
  },
  {
   "cell_type": "code",
   "execution_count": 23,
   "id": "d1fd31db",
   "metadata": {
    "execution": {
     "iopub.execute_input": "2021-08-05T05:37:52.119918Z",
     "iopub.status.busy": "2021-08-05T05:37:52.114723Z",
     "iopub.status.idle": "2021-08-05T05:37:54.346867Z",
     "shell.execute_reply": "2021-08-05T05:37:54.346032Z",
     "shell.execute_reply.started": "2021-08-05T05:36:55.536132Z"
    },
    "papermill": {
     "duration": 2.281079,
     "end_time": "2021-08-05T05:37:54.347031",
     "exception": false,
     "start_time": "2021-08-05T05:37:52.065952",
     "status": "completed"
    },
    "tags": []
   },
   "outputs": [
    {
     "name": "stdout",
     "output_type": "stream",
     "text": [
      "Player won 21312 out of 50000 games (win rate = 42.6%)\n"
     ]
    }
   ],
   "source": [
    "q7.simulate(n_games=50000)"
   ]
  },
  {
   "cell_type": "markdown",
   "id": "bb917406",
   "metadata": {
    "papermill": {
     "duration": 0.039773,
     "end_time": "2021-08-05T05:37:54.427136",
     "exception": false,
     "start_time": "2021-08-05T05:37:54.387363",
     "status": "completed"
    },
    "tags": []
   },
   "source": [
    "Our dumb agent that completely ignores the game state still manages to win shockingly often!\n",
    "\n",
    "Try adding some more smarts to the `should_hit` function and see how it affects the results."
   ]
  },
  {
   "cell_type": "code",
   "execution_count": 24,
   "id": "2aaba240",
   "metadata": {
    "execution": {
     "iopub.execute_input": "2021-08-05T05:37:54.551880Z",
     "iopub.status.busy": "2021-08-05T05:37:54.546661Z",
     "iopub.status.idle": "2021-08-05T05:37:56.734171Z",
     "shell.execute_reply": "2021-08-05T05:37:56.733449Z",
     "shell.execute_reply.started": "2021-08-05T05:37:01.820490Z"
    },
    "papermill": {
     "duration": 2.267479,
     "end_time": "2021-08-05T05:37:56.734322",
     "exception": false,
     "start_time": "2021-08-05T05:37:54.466843",
     "status": "completed"
    },
    "tags": []
   },
   "outputs": [
    {
     "name": "stdout",
     "output_type": "stream",
     "text": [
      "Player won 21223 out of 50000 games (win rate = 42.4%)\n"
     ]
    }
   ],
   "source": [
    "def should_hit(dealer_total, player_total, player_low_aces, player_high_aces):\n",
    "    \"\"\"Return True if the player should hit (request another card) given the current game\n",
    "    state, or False if the player should stay.\n",
    "    When calculating a hand's total value, we count aces as \"high\" (with value 11) if doing so\n",
    "    doesn't bring the total above 21, otherwise we count them as low (with value 1). \n",
    "    For example, if the player's hand is {A, A, A, 7}, we will count it as 11 + 1 + 1 + 7,\n",
    "    and therefore set player_total=20, player_low_aces=2, player_high_aces=1.\n",
    "    \"\"\"\n",
    "    if player_total <= 11:\n",
    "        return True\n",
    "    if player_total == 12 and (dealer_total >= 4 and dealer_total <= 6):\n",
    "        return False\n",
    "    if player_total == 12 and not (dealer_total >= 4 and dealer_total <= 6):\n",
    "        return True\n",
    "    if (player_total >= 13 and player_total <= 16) and (dealer_total >= 2 and dealer_total <= 6):\n",
    "        return False\n",
    "    if (player_total >= 13 and player_total <= 16) and not (dealer_total >= 2 and dealer_total <= 6):\n",
    "        return True\n",
    "    if player_total < 17:\n",
    "        return True\n",
    "    if player_total == 17: \n",
    "        return False\n",
    "    else:\n",
    "        return False\n",
    "\n",
    "q7.simulate(n_games=50000)"
   ]
  },
  {
   "cell_type": "markdown",
   "id": "00329ed1",
   "metadata": {
    "papermill": {
     "duration": 0.040731,
     "end_time": "2021-08-05T05:37:56.815467",
     "exception": false,
     "start_time": "2021-08-05T05:37:56.774736",
     "status": "completed"
    },
    "tags": []
   },
   "source": [
    "# Keep Going\n",
    "\n",
    "Learn about **[lists and tuples](https://www.kaggle.com/colinmorris/lists)** to handle multiple items of data in a systematic way."
   ]
  },
  {
   "cell_type": "markdown",
   "id": "5816871c",
   "metadata": {
    "papermill": {
     "duration": 0.039712,
     "end_time": "2021-08-05T05:37:56.895388",
     "exception": false,
     "start_time": "2021-08-05T05:37:56.855676",
     "status": "completed"
    },
    "tags": []
   },
   "source": [
    "---\n",
    "\n",
    "\n",
    "\n",
    "\n",
    "*Have questions or comments? Visit the [Learn Discussion forum](https://www.kaggle.com/learn-forum/161283) to chat with other Learners.*"
   ]
  }
 ],
 "metadata": {
  "kernelspec": {
   "display_name": "Python 3",
   "language": "python",
   "name": "python3"
  },
  "language_info": {
   "codemirror_mode": {
    "name": "ipython",
    "version": 3
   },
   "file_extension": ".py",
   "mimetype": "text/x-python",
   "name": "python",
   "nbconvert_exporter": "python",
   "pygments_lexer": "ipython3",
   "version": "3.7.10"
  },
  "papermill": {
   "default_parameters": {},
   "duration": 17.909214,
   "end_time": "2021-08-05T05:37:58.245525",
   "environment_variables": {},
   "exception": null,
   "input_path": "__notebook__.ipynb",
   "output_path": "__notebook__.ipynb",
   "parameters": {},
   "start_time": "2021-08-05T05:37:40.336311",
   "version": "2.3.3"
  }
 },
 "nbformat": 4,
 "nbformat_minor": 5
}
